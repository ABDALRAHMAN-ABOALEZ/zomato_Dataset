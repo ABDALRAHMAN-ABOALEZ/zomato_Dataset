{
  "cells": [
    {
      "cell_type": "markdown",
      "metadata": {
        "id": "YVNWdLVhOKKJ"
      },
      "source": [
        "## Importing Libraries"
      ]
    },
    {
      "cell_type": "code",
      "execution_count": 2,
      "metadata": {
        "execution": {
          "iopub.execute_input": "2021-06-01T09:33:24.913497Z",
          "iopub.status.busy": "2021-06-01T09:33:24.912795Z",
          "iopub.status.idle": "2021-06-01T09:33:24.92086Z",
          "shell.execute_reply": "2021-06-01T09:33:24.919625Z",
          "shell.execute_reply.started": "2021-06-01T09:33:24.913449Z"
        },
        "id": "sMUo1fdMOKKK",
        "trusted": true
      },
      "outputs": [],
      "source": [
        "import pandas as pd\n",
        "import numpy as np\n",
        "import matplotlib.pyplot as plt\n",
        "import seaborn as sns\n",
        "import os\n",
        "import matplotlib.pyplot as plt\n",
        "import seaborn as sns\n",
        "from sklearn.experimental import enable_iterative_imputer\n",
        "from sklearn.impute import IterativeImputer\n",
        "from scipy.stats import skew"
      ]
    },
    {
      "cell_type": "markdown",
      "metadata": {
        "id": "y7DKOqHhOKKM"
      },
      "source": [
        "## Reading CSV"
      ]
    },
    {
      "cell_type": "code",
      "execution_count": 3,
      "metadata": {
        "execution": {
          "iopub.execute_input": "2021-06-01T09:33:24.939642Z",
          "iopub.status.busy": "2021-06-01T09:33:24.939192Z",
          "iopub.status.idle": "2021-06-01T09:33:31.668996Z",
          "shell.execute_reply": "2021-06-01T09:33:31.667544Z",
          "shell.execute_reply.started": "2021-06-01T09:33:24.939605Z"
        },
        "id": "J5Xt1W11OKKN",
        "trusted": true
      },
      "outputs": [],
      "source": [
        "data = pd.read_csv(\"zomato.csv\")\n",
        "df = data.copy()\n",
        "df_copy = data.copy()\n",
        "df_original = data.copy()\n",
        "df_backup = data.copy()"
      ]
    },
    {
      "cell_type": "code",
      "execution_count": 4,
      "metadata": {
        "colab": {
          "base_uri": "https://localhost:8080/"
        },
        "execution": {
          "iopub.execute_input": "2021-06-01T09:33:31.671132Z",
          "iopub.status.busy": "2021-06-01T09:33:31.67079Z",
          "iopub.status.idle": "2021-06-01T09:33:31.681664Z",
          "shell.execute_reply": "2021-06-01T09:33:31.679522Z",
          "shell.execute_reply.started": "2021-06-01T09:33:31.671098Z"
        },
        "id": "gz6o07XsOKKO",
        "outputId": "f1ff372e-e61e-41ef-ad11-8abb9a1c2ae5",
        "trusted": true
      },
      "outputs": [
        {
          "data": {
            "text/plain": [
              "(51717, 17)"
            ]
          },
          "execution_count": 4,
          "metadata": {},
          "output_type": "execute_result"
        }
      ],
      "source": [
        "df.shape"
      ]
    },
    {
      "cell_type": "code",
      "execution_count": 5,
      "metadata": {
        "colab": {
          "base_uri": "https://localhost:8080/"
        },
        "execution": {
          "iopub.execute_input": "2021-06-01T09:33:31.684947Z",
          "iopub.status.busy": "2021-06-01T09:33:31.68443Z",
          "iopub.status.idle": "2021-06-01T09:33:31.70443Z",
          "shell.execute_reply": "2021-06-01T09:33:31.702945Z",
          "shell.execute_reply.started": "2021-06-01T09:33:31.684895Z"
        },
        "id": "5mgxOU8COKKP",
        "outputId": "8aef158c-1d0b-4936-c568-0edc0d631bd8",
        "trusted": true
      },
      "outputs": [
        {
          "data": {
            "text/plain": [
              "Index(['url', 'address', 'name', 'online_order', 'book_table', 'rate', 'votes',\n",
              "       'phone', 'location', 'rest_type', 'dish_liked', 'cuisines',\n",
              "       'approx_cost(for two people)', 'reviews_list', 'menu_item',\n",
              "       'listed_in(type)', 'listed_in(city)'],\n",
              "      dtype='object')"
            ]
          },
          "execution_count": 5,
          "metadata": {},
          "output_type": "execute_result"
        }
      ],
      "source": [
        "df.columns"
      ]
    },
    {
      "cell_type": "code",
      "execution_count": 6,
      "metadata": {
        "colab": {
          "base_uri": "https://localhost:8080/",
          "height": 0
        },
        "execution": {
          "iopub.execute_input": "2021-06-01T09:33:31.707444Z",
          "iopub.status.busy": "2021-06-01T09:33:31.707035Z",
          "iopub.status.idle": "2021-06-01T09:33:31.752213Z",
          "shell.execute_reply": "2021-06-01T09:33:31.750793Z",
          "shell.execute_reply.started": "2021-06-01T09:33:31.707407Z"
        },
        "id": "tY-aXtJfOKKP",
        "outputId": "f0c5556b-a767-4ec1-f3c4-ffc1d7b6271e",
        "trusted": true
      },
      "outputs": [
        {
          "data": {
            "text/html": [
              "<div>\n",
              "<style scoped>\n",
              "    .dataframe tbody tr th:only-of-type {\n",
              "        vertical-align: middle;\n",
              "    }\n",
              "\n",
              "    .dataframe tbody tr th {\n",
              "        vertical-align: top;\n",
              "    }\n",
              "\n",
              "    .dataframe thead th {\n",
              "        text-align: right;\n",
              "    }\n",
              "</style>\n",
              "<table border=\"1\" class=\"dataframe\">\n",
              "  <thead>\n",
              "    <tr style=\"text-align: right;\">\n",
              "      <th></th>\n",
              "      <th>name</th>\n",
              "      <th>online_order</th>\n",
              "      <th>book_table</th>\n",
              "      <th>rate</th>\n",
              "      <th>votes</th>\n",
              "      <th>location</th>\n",
              "      <th>rest_type</th>\n",
              "      <th>cuisines</th>\n",
              "      <th>approx_cost(for two people)</th>\n",
              "      <th>listed_in(type)</th>\n",
              "      <th>listed_in(city)</th>\n",
              "    </tr>\n",
              "  </thead>\n",
              "  <tbody>\n",
              "    <tr>\n",
              "      <th>0</th>\n",
              "      <td>Jalsa</td>\n",
              "      <td>Yes</td>\n",
              "      <td>Yes</td>\n",
              "      <td>4.1/5</td>\n",
              "      <td>775</td>\n",
              "      <td>Banashankari</td>\n",
              "      <td>Casual Dining</td>\n",
              "      <td>North Indian, Mughlai, Chinese</td>\n",
              "      <td>800</td>\n",
              "      <td>Buffet</td>\n",
              "      <td>Banashankari</td>\n",
              "    </tr>\n",
              "    <tr>\n",
              "      <th>1</th>\n",
              "      <td>Spice Elephant</td>\n",
              "      <td>Yes</td>\n",
              "      <td>No</td>\n",
              "      <td>4.1/5</td>\n",
              "      <td>787</td>\n",
              "      <td>Banashankari</td>\n",
              "      <td>Casual Dining</td>\n",
              "      <td>Chinese, North Indian, Thai</td>\n",
              "      <td>800</td>\n",
              "      <td>Buffet</td>\n",
              "      <td>Banashankari</td>\n",
              "    </tr>\n",
              "    <tr>\n",
              "      <th>2</th>\n",
              "      <td>San Churro Cafe</td>\n",
              "      <td>Yes</td>\n",
              "      <td>No</td>\n",
              "      <td>3.8/5</td>\n",
              "      <td>918</td>\n",
              "      <td>Banashankari</td>\n",
              "      <td>Cafe, Casual Dining</td>\n",
              "      <td>Cafe, Mexican, Italian</td>\n",
              "      <td>800</td>\n",
              "      <td>Buffet</td>\n",
              "      <td>Banashankari</td>\n",
              "    </tr>\n",
              "    <tr>\n",
              "      <th>3</th>\n",
              "      <td>Addhuri Udupi Bhojana</td>\n",
              "      <td>No</td>\n",
              "      <td>No</td>\n",
              "      <td>3.7/5</td>\n",
              "      <td>88</td>\n",
              "      <td>Banashankari</td>\n",
              "      <td>Quick Bites</td>\n",
              "      <td>South Indian, North Indian</td>\n",
              "      <td>300</td>\n",
              "      <td>Buffet</td>\n",
              "      <td>Banashankari</td>\n",
              "    </tr>\n",
              "    <tr>\n",
              "      <th>4</th>\n",
              "      <td>Grand Village</td>\n",
              "      <td>No</td>\n",
              "      <td>No</td>\n",
              "      <td>3.8/5</td>\n",
              "      <td>166</td>\n",
              "      <td>Basavanagudi</td>\n",
              "      <td>Casual Dining</td>\n",
              "      <td>North Indian, Rajasthani</td>\n",
              "      <td>600</td>\n",
              "      <td>Buffet</td>\n",
              "      <td>Banashankari</td>\n",
              "    </tr>\n",
              "  </tbody>\n",
              "</table>\n",
              "</div>"
            ],
            "text/plain": [
              "                    name online_order book_table   rate  votes      location  \\\n",
              "0                  Jalsa          Yes        Yes  4.1/5    775  Banashankari   \n",
              "1         Spice Elephant          Yes         No  4.1/5    787  Banashankari   \n",
              "2        San Churro Cafe          Yes         No  3.8/5    918  Banashankari   \n",
              "3  Addhuri Udupi Bhojana           No         No  3.7/5     88  Banashankari   \n",
              "4          Grand Village           No         No  3.8/5    166  Basavanagudi   \n",
              "\n",
              "             rest_type                        cuisines  \\\n",
              "0        Casual Dining  North Indian, Mughlai, Chinese   \n",
              "1        Casual Dining     Chinese, North Indian, Thai   \n",
              "2  Cafe, Casual Dining          Cafe, Mexican, Italian   \n",
              "3          Quick Bites      South Indian, North Indian   \n",
              "4        Casual Dining        North Indian, Rajasthani   \n",
              "\n",
              "  approx_cost(for two people) listed_in(type) listed_in(city)  \n",
              "0                         800          Buffet    Banashankari  \n",
              "1                         800          Buffet    Banashankari  \n",
              "2                         800          Buffet    Banashankari  \n",
              "3                         300          Buffet    Banashankari  \n",
              "4                         600          Buffet    Banashankari  "
            ]
          },
          "execution_count": 6,
          "metadata": {},
          "output_type": "execute_result"
        }
      ],
      "source": [
        "df = df.drop(['url', 'address', 'phone', 'menu_item', 'dish_liked', 'reviews_list'], axis = 1)\n",
        "df.head()"
      ]
    },
    {
      "cell_type": "code",
      "execution_count": 7,
      "metadata": {
        "colab": {
          "base_uri": "https://localhost:8080/"
        },
        "execution": {
          "iopub.execute_input": "2021-06-01T09:33:31.754083Z",
          "iopub.status.busy": "2021-06-01T09:33:31.753687Z",
          "iopub.status.idle": "2021-06-01T09:33:31.821202Z",
          "shell.execute_reply": "2021-06-01T09:33:31.81986Z",
          "shell.execute_reply.started": "2021-06-01T09:33:31.754049Z"
        },
        "id": "UnBurS9OOKKQ",
        "outputId": "01869826-b638-4651-d877-6e584e1588be",
        "trusted": true
      },
      "outputs": [
        {
          "name": "stdout",
          "output_type": "stream",
          "text": [
            "<class 'pandas.core.frame.DataFrame'>\n",
            "RangeIndex: 51717 entries, 0 to 51716\n",
            "Data columns (total 11 columns):\n",
            " #   Column                       Non-Null Count  Dtype \n",
            "---  ------                       --------------  ----- \n",
            " 0   name                         51717 non-null  object\n",
            " 1   online_order                 51717 non-null  object\n",
            " 2   book_table                   51717 non-null  object\n",
            " 3   rate                         43942 non-null  object\n",
            " 4   votes                        51717 non-null  int64 \n",
            " 5   location                     51696 non-null  object\n",
            " 6   rest_type                    51490 non-null  object\n",
            " 7   cuisines                     51672 non-null  object\n",
            " 8   approx_cost(for two people)  51371 non-null  object\n",
            " 9   listed_in(type)              51717 non-null  object\n",
            " 10  listed_in(city)              51717 non-null  object\n",
            "dtypes: int64(1), object(10)\n",
            "memory usage: 4.3+ MB\n"
          ]
        }
      ],
      "source": [
        "df.info()"
      ]
    },
    {
      "cell_type": "markdown",
      "metadata": {
        "id": "Y81PJo8LOKKR"
      },
      "source": [
        "## Dropping Duplicates"
      ]
    },
    {
      "cell_type": "code",
      "execution_count": 8,
      "metadata": {
        "colab": {
          "base_uri": "https://localhost:8080/"
        },
        "execution": {
          "iopub.execute_input": "2021-06-01T09:33:31.823306Z",
          "iopub.status.busy": "2021-06-01T09:33:31.822832Z",
          "iopub.status.idle": "2021-06-01T09:33:31.907514Z",
          "shell.execute_reply": "2021-06-01T09:33:31.906251Z",
          "shell.execute_reply.started": "2021-06-01T09:33:31.823272Z"
        },
        "id": "B8WtVcyROKKR",
        "outputId": "81b383cc-9d2f-4c26-abf9-8b15af36bffc",
        "trusted": true
      },
      "outputs": [
        {
          "data": {
            "text/plain": [
              "(51609, 11)"
            ]
          },
          "execution_count": 8,
          "metadata": {},
          "output_type": "execute_result"
        }
      ],
      "source": [
        "df.drop_duplicates(inplace = True)\n",
        "df.shape"
      ]
    },
    {
      "cell_type": "markdown",
      "metadata": {
        "id": "lMnVZgekOKKR"
      },
      "source": [
        "## Cleaning Rate Column"
      ]
    },
    {
      "cell_type": "code",
      "execution_count": 9,
      "metadata": {
        "colab": {
          "base_uri": "https://localhost:8080/"
        },
        "execution": {
          "iopub.execute_input": "2021-06-01T09:33:31.910103Z",
          "iopub.status.busy": "2021-06-01T09:33:31.909506Z",
          "iopub.status.idle": "2021-06-01T09:33:31.922434Z",
          "shell.execute_reply": "2021-06-01T09:33:31.921263Z",
          "shell.execute_reply.started": "2021-06-01T09:33:31.910065Z"
        },
        "id": "NGxF2S8HOKKS",
        "outputId": "08731e9b-f720-4a6b-cf54-1f94ffa865d6",
        "trusted": true
      },
      "outputs": [
        {
          "data": {
            "text/plain": [
              "array(['4.1/5', '3.8/5', '3.7/5', '3.6/5', '4.6/5', '4.0/5', '4.2/5',\n",
              "       '3.9/5', '3.1/5', '3.0/5', '3.2/5', '3.3/5', '2.8/5', '4.4/5',\n",
              "       '4.3/5', 'NEW', '2.9/5', '3.5/5', nan, '2.6/5', '3.8 /5', '3.4/5',\n",
              "       '4.5/5', '2.5/5', '2.7/5', '4.7/5', '2.4/5', '2.2/5', '2.3/5',\n",
              "       '3.4 /5', '-', '3.6 /5', '4.8/5', '3.9 /5', '4.2 /5', '4.0 /5',\n",
              "       '4.1 /5', '3.7 /5', '3.1 /5', '2.9 /5', '3.3 /5', '2.8 /5',\n",
              "       '3.5 /5', '2.7 /5', '2.5 /5', '3.2 /5', '2.6 /5', '4.5 /5',\n",
              "       '4.3 /5', '4.4 /5', '4.9/5', '2.1/5', '2.0/5', '1.8/5', '4.6 /5',\n",
              "       '4.9 /5', '3.0 /5', '4.8 /5', '2.3 /5', '4.7 /5', '2.4 /5',\n",
              "       '2.1 /5', '2.2 /5', '2.0 /5', '1.8 /5'], dtype=object)"
            ]
          },
          "execution_count": 9,
          "metadata": {},
          "output_type": "execute_result"
        }
      ],
      "source": [
        "df['rate'].unique()"
      ]
    },
    {
      "cell_type": "markdown",
      "metadata": {
        "id": "pyUMkZ6cOKKS"
      },
      "source": [
        "## Removing \"NEW\" ,  \"-\" and \"/5\" from Rate Column"
      ]
    },
    {
      "cell_type": "code",
      "execution_count": 10,
      "metadata": {
        "colab": {
          "base_uri": "https://localhost:8080/",
          "height": 0
        },
        "execution": {
          "iopub.execute_input": "2021-06-01T09:33:31.926166Z",
          "iopub.status.busy": "2021-06-01T09:33:31.925812Z",
          "iopub.status.idle": "2021-06-01T09:33:32.010179Z",
          "shell.execute_reply": "2021-06-01T09:33:32.008876Z",
          "shell.execute_reply.started": "2021-06-01T09:33:31.926127Z"
        },
        "id": "AZam8Cm2OKKS",
        "outputId": "7afd1dad-1c86-494e-aac0-a6f4d8e73807",
        "trusted": true
      },
      "outputs": [
        {
          "data": {
            "text/plain": [
              "0    4.1\n",
              "1    4.1\n",
              "2    3.8\n",
              "3    3.7\n",
              "4    3.8\n",
              "Name: rate, dtype: float64"
            ]
          },
          "execution_count": 10,
          "metadata": {},
          "output_type": "execute_result"
        }
      ],
      "source": [
        "def handlerate(value):\n",
        "    if(value=='NEW' or value=='-'):\n",
        "        return np.nan\n",
        "    else:\n",
        "        value = str(value).split('/')\n",
        "        value = value[0]\n",
        "        return float(value)\n",
        "\n",
        "df['rate'] = df['rate'].apply(handlerate)\n",
        "df['rate'].head()"
      ]
    },
    {
      "cell_type": "markdown",
      "metadata": {
        "id": "QGdC9-yQOKKT"
      },
      "source": [
        "## Filling Null Values in Rate Column with Mean"
      ]
    },
    {
      "cell_type": "code",
      "execution_count": 11,
      "metadata": {
        "colab": {
          "base_uri": "https://localhost:8080/"
        },
        "execution": {
          "iopub.execute_input": "2021-06-01T09:33:32.013199Z",
          "iopub.status.busy": "2021-06-01T09:33:32.012685Z",
          "iopub.status.idle": "2021-06-01T09:33:32.025216Z",
          "shell.execute_reply": "2021-06-01T09:33:32.023947Z",
          "shell.execute_reply.started": "2021-06-01T09:33:32.01315Z"
        },
        "id": "ovHZz-HUOKKT",
        "outputId": "96edba44-2bf2-4c7c-ac9f-1c92005d288a",
        "trusted": true
      },
      "outputs": [
        {
          "name": "stderr",
          "output_type": "stream",
          "text": [
            "C:\\Users\\ABDALRAHMAN\\AppData\\Local\\Temp\\ipykernel_1336\\1687008678.py:1: FutureWarning: A value is trying to be set on a copy of a DataFrame or Series through chained assignment using an inplace method.\n",
            "The behavior will change in pandas 3.0. This inplace method will never work because the intermediate object on which we are setting values always behaves as a copy.\n",
            "\n",
            "For example, when doing 'df[col].method(value, inplace=True)', try using 'df.method({col: value}, inplace=True)' or df[col] = df[col].method(value) instead, to perform the operation inplace on the original object.\n",
            "\n",
            "\n",
            "  df['rate'].fillna(df['rate'].mean(), inplace = True)\n"
          ]
        },
        {
          "data": {
            "text/plain": [
              "np.int64(0)"
            ]
          },
          "execution_count": 11,
          "metadata": {},
          "output_type": "execute_result"
        }
      ],
      "source": [
        "df['rate'].fillna(df['rate'].mean(), inplace = True)\n",
        "df['rate'].isnull().sum()"
      ]
    },
    {
      "cell_type": "code",
      "execution_count": 12,
      "metadata": {
        "colab": {
          "base_uri": "https://localhost:8080/"
        },
        "execution": {
          "iopub.execute_input": "2021-06-01T09:33:32.028031Z",
          "iopub.status.busy": "2021-06-01T09:33:32.027495Z",
          "iopub.status.idle": "2021-06-01T09:33:32.097792Z",
          "shell.execute_reply": "2021-06-01T09:33:32.09583Z",
          "shell.execute_reply.started": "2021-06-01T09:33:32.027977Z"
        },
        "id": "hca6zvxXOKKT",
        "outputId": "960ed6b0-8d49-4e86-8119-81d2b07261cb",
        "scrolled": true,
        "trusted": true
      },
      "outputs": [
        {
          "name": "stdout",
          "output_type": "stream",
          "text": [
            "<class 'pandas.core.frame.DataFrame'>\n",
            "Index: 51609 entries, 0 to 51716\n",
            "Data columns (total 11 columns):\n",
            " #   Column                       Non-Null Count  Dtype  \n",
            "---  ------                       --------------  -----  \n",
            " 0   name                         51609 non-null  object \n",
            " 1   online_order                 51609 non-null  object \n",
            " 2   book_table                   51609 non-null  object \n",
            " 3   rate                         51609 non-null  float64\n",
            " 4   votes                        51609 non-null  int64  \n",
            " 5   location                     51588 non-null  object \n",
            " 6   rest_type                    51382 non-null  object \n",
            " 7   cuisines                     51564 non-null  object \n",
            " 8   approx_cost(for two people)  51265 non-null  object \n",
            " 9   listed_in(type)              51609 non-null  object \n",
            " 10  listed_in(city)              51609 non-null  object \n",
            "dtypes: float64(1), int64(1), object(9)\n",
            "memory usage: 4.7+ MB\n"
          ]
        }
      ],
      "source": [
        "df.info()"
      ]
    },
    {
      "cell_type": "markdown",
      "metadata": {
        "id": "n6AxHxWMOKKU"
      },
      "source": [
        "## Dropping Null Values"
      ]
    },
    {
      "cell_type": "code",
      "execution_count": 13,
      "metadata": {
        "colab": {
          "base_uri": "https://localhost:8080/",
          "height": 0
        },
        "execution": {
          "iopub.execute_input": "2021-06-01T09:33:32.099557Z",
          "iopub.status.busy": "2021-06-01T09:33:32.099104Z",
          "iopub.status.idle": "2021-06-01T09:33:32.170336Z",
          "shell.execute_reply": "2021-06-01T09:33:32.169275Z",
          "shell.execute_reply.started": "2021-06-01T09:33:32.099526Z"
        },
        "id": "bPk5ivCbOKKU",
        "outputId": "3d83d7dd-f5e5-45fa-d4fe-5a4a4fd0b4b4",
        "trusted": true
      },
      "outputs": [
        {
          "data": {
            "text/html": [
              "<div>\n",
              "<style scoped>\n",
              "    .dataframe tbody tr th:only-of-type {\n",
              "        vertical-align: middle;\n",
              "    }\n",
              "\n",
              "    .dataframe tbody tr th {\n",
              "        vertical-align: top;\n",
              "    }\n",
              "\n",
              "    .dataframe thead th {\n",
              "        text-align: right;\n",
              "    }\n",
              "</style>\n",
              "<table border=\"1\" class=\"dataframe\">\n",
              "  <thead>\n",
              "    <tr style=\"text-align: right;\">\n",
              "      <th></th>\n",
              "      <th>name</th>\n",
              "      <th>online_order</th>\n",
              "      <th>book_table</th>\n",
              "      <th>rate</th>\n",
              "      <th>votes</th>\n",
              "      <th>location</th>\n",
              "      <th>rest_type</th>\n",
              "      <th>cuisines</th>\n",
              "      <th>approx_cost(for two people)</th>\n",
              "      <th>listed_in(type)</th>\n",
              "      <th>listed_in(city)</th>\n",
              "    </tr>\n",
              "  </thead>\n",
              "  <tbody>\n",
              "    <tr>\n",
              "      <th>0</th>\n",
              "      <td>Jalsa</td>\n",
              "      <td>Yes</td>\n",
              "      <td>Yes</td>\n",
              "      <td>4.1</td>\n",
              "      <td>775</td>\n",
              "      <td>Banashankari</td>\n",
              "      <td>Casual Dining</td>\n",
              "      <td>North Indian, Mughlai, Chinese</td>\n",
              "      <td>800</td>\n",
              "      <td>Buffet</td>\n",
              "      <td>Banashankari</td>\n",
              "    </tr>\n",
              "    <tr>\n",
              "      <th>1</th>\n",
              "      <td>Spice Elephant</td>\n",
              "      <td>Yes</td>\n",
              "      <td>No</td>\n",
              "      <td>4.1</td>\n",
              "      <td>787</td>\n",
              "      <td>Banashankari</td>\n",
              "      <td>Casual Dining</td>\n",
              "      <td>Chinese, North Indian, Thai</td>\n",
              "      <td>800</td>\n",
              "      <td>Buffet</td>\n",
              "      <td>Banashankari</td>\n",
              "    </tr>\n",
              "    <tr>\n",
              "      <th>2</th>\n",
              "      <td>San Churro Cafe</td>\n",
              "      <td>Yes</td>\n",
              "      <td>No</td>\n",
              "      <td>3.8</td>\n",
              "      <td>918</td>\n",
              "      <td>Banashankari</td>\n",
              "      <td>Cafe, Casual Dining</td>\n",
              "      <td>Cafe, Mexican, Italian</td>\n",
              "      <td>800</td>\n",
              "      <td>Buffet</td>\n",
              "      <td>Banashankari</td>\n",
              "    </tr>\n",
              "    <tr>\n",
              "      <th>3</th>\n",
              "      <td>Addhuri Udupi Bhojana</td>\n",
              "      <td>No</td>\n",
              "      <td>No</td>\n",
              "      <td>3.7</td>\n",
              "      <td>88</td>\n",
              "      <td>Banashankari</td>\n",
              "      <td>Quick Bites</td>\n",
              "      <td>South Indian, North Indian</td>\n",
              "      <td>300</td>\n",
              "      <td>Buffet</td>\n",
              "      <td>Banashankari</td>\n",
              "    </tr>\n",
              "    <tr>\n",
              "      <th>4</th>\n",
              "      <td>Grand Village</td>\n",
              "      <td>No</td>\n",
              "      <td>No</td>\n",
              "      <td>3.8</td>\n",
              "      <td>166</td>\n",
              "      <td>Basavanagudi</td>\n",
              "      <td>Casual Dining</td>\n",
              "      <td>North Indian, Rajasthani</td>\n",
              "      <td>600</td>\n",
              "      <td>Buffet</td>\n",
              "      <td>Banashankari</td>\n",
              "    </tr>\n",
              "  </tbody>\n",
              "</table>\n",
              "</div>"
            ],
            "text/plain": [
              "                    name online_order book_table  rate  votes      location  \\\n",
              "0                  Jalsa          Yes        Yes   4.1    775  Banashankari   \n",
              "1         Spice Elephant          Yes         No   4.1    787  Banashankari   \n",
              "2        San Churro Cafe          Yes         No   3.8    918  Banashankari   \n",
              "3  Addhuri Udupi Bhojana           No         No   3.7     88  Banashankari   \n",
              "4          Grand Village           No         No   3.8    166  Basavanagudi   \n",
              "\n",
              "             rest_type                        cuisines  \\\n",
              "0        Casual Dining  North Indian, Mughlai, Chinese   \n",
              "1        Casual Dining     Chinese, North Indian, Thai   \n",
              "2  Cafe, Casual Dining          Cafe, Mexican, Italian   \n",
              "3          Quick Bites      South Indian, North Indian   \n",
              "4        Casual Dining        North Indian, Rajasthani   \n",
              "\n",
              "  approx_cost(for two people) listed_in(type) listed_in(city)  \n",
              "0                         800          Buffet    Banashankari  \n",
              "1                         800          Buffet    Banashankari  \n",
              "2                         800          Buffet    Banashankari  \n",
              "3                         300          Buffet    Banashankari  \n",
              "4                         600          Buffet    Banashankari  "
            ]
          },
          "execution_count": 13,
          "metadata": {},
          "output_type": "execute_result"
        }
      ],
      "source": [
        "df.dropna(inplace = True)\n",
        "df.head()"
      ]
    },
    {
      "cell_type": "code",
      "execution_count": 14,
      "metadata": {
        "colab": {
          "base_uri": "https://localhost:8080/",
          "height": 0
        },
        "execution": {
          "iopub.execute_input": "2021-06-01T09:33:32.172436Z",
          "iopub.status.busy": "2021-06-01T09:33:32.17206Z",
          "iopub.status.idle": "2021-06-01T09:33:32.196428Z",
          "shell.execute_reply": "2021-06-01T09:33:32.195019Z",
          "shell.execute_reply.started": "2021-06-01T09:33:32.172403Z"
        },
        "id": "XxyCNXbCOKKV",
        "outputId": "812db1c4-bb72-4d4a-8e23-188230dd9a96",
        "trusted": true
      },
      "outputs": [
        {
          "data": {
            "text/html": [
              "<div>\n",
              "<style scoped>\n",
              "    .dataframe tbody tr th:only-of-type {\n",
              "        vertical-align: middle;\n",
              "    }\n",
              "\n",
              "    .dataframe tbody tr th {\n",
              "        vertical-align: top;\n",
              "    }\n",
              "\n",
              "    .dataframe thead th {\n",
              "        text-align: right;\n",
              "    }\n",
              "</style>\n",
              "<table border=\"1\" class=\"dataframe\">\n",
              "  <thead>\n",
              "    <tr style=\"text-align: right;\">\n",
              "      <th></th>\n",
              "      <th>name</th>\n",
              "      <th>online_order</th>\n",
              "      <th>book_table</th>\n",
              "      <th>rate</th>\n",
              "      <th>votes</th>\n",
              "      <th>location</th>\n",
              "      <th>rest_type</th>\n",
              "      <th>cuisines</th>\n",
              "      <th>cost</th>\n",
              "      <th>Type</th>\n",
              "      <th>listed_in(city)</th>\n",
              "    </tr>\n",
              "  </thead>\n",
              "  <tbody>\n",
              "    <tr>\n",
              "      <th>0</th>\n",
              "      <td>Jalsa</td>\n",
              "      <td>Yes</td>\n",
              "      <td>Yes</td>\n",
              "      <td>4.1</td>\n",
              "      <td>775</td>\n",
              "      <td>Banashankari</td>\n",
              "      <td>Casual Dining</td>\n",
              "      <td>North Indian, Mughlai, Chinese</td>\n",
              "      <td>800</td>\n",
              "      <td>Buffet</td>\n",
              "      <td>Banashankari</td>\n",
              "    </tr>\n",
              "    <tr>\n",
              "      <th>1</th>\n",
              "      <td>Spice Elephant</td>\n",
              "      <td>Yes</td>\n",
              "      <td>No</td>\n",
              "      <td>4.1</td>\n",
              "      <td>787</td>\n",
              "      <td>Banashankari</td>\n",
              "      <td>Casual Dining</td>\n",
              "      <td>Chinese, North Indian, Thai</td>\n",
              "      <td>800</td>\n",
              "      <td>Buffet</td>\n",
              "      <td>Banashankari</td>\n",
              "    </tr>\n",
              "    <tr>\n",
              "      <th>2</th>\n",
              "      <td>San Churro Cafe</td>\n",
              "      <td>Yes</td>\n",
              "      <td>No</td>\n",
              "      <td>3.8</td>\n",
              "      <td>918</td>\n",
              "      <td>Banashankari</td>\n",
              "      <td>Cafe, Casual Dining</td>\n",
              "      <td>Cafe, Mexican, Italian</td>\n",
              "      <td>800</td>\n",
              "      <td>Buffet</td>\n",
              "      <td>Banashankari</td>\n",
              "    </tr>\n",
              "    <tr>\n",
              "      <th>3</th>\n",
              "      <td>Addhuri Udupi Bhojana</td>\n",
              "      <td>No</td>\n",
              "      <td>No</td>\n",
              "      <td>3.7</td>\n",
              "      <td>88</td>\n",
              "      <td>Banashankari</td>\n",
              "      <td>Quick Bites</td>\n",
              "      <td>South Indian, North Indian</td>\n",
              "      <td>300</td>\n",
              "      <td>Buffet</td>\n",
              "      <td>Banashankari</td>\n",
              "    </tr>\n",
              "    <tr>\n",
              "      <th>4</th>\n",
              "      <td>Grand Village</td>\n",
              "      <td>No</td>\n",
              "      <td>No</td>\n",
              "      <td>3.8</td>\n",
              "      <td>166</td>\n",
              "      <td>Basavanagudi</td>\n",
              "      <td>Casual Dining</td>\n",
              "      <td>North Indian, Rajasthani</td>\n",
              "      <td>600</td>\n",
              "      <td>Buffet</td>\n",
              "      <td>Banashankari</td>\n",
              "    </tr>\n",
              "  </tbody>\n",
              "</table>\n",
              "</div>"
            ],
            "text/plain": [
              "                    name online_order book_table  rate  votes      location  \\\n",
              "0                  Jalsa          Yes        Yes   4.1    775  Banashankari   \n",
              "1         Spice Elephant          Yes         No   4.1    787  Banashankari   \n",
              "2        San Churro Cafe          Yes         No   3.8    918  Banashankari   \n",
              "3  Addhuri Udupi Bhojana           No         No   3.7     88  Banashankari   \n",
              "4          Grand Village           No         No   3.8    166  Basavanagudi   \n",
              "\n",
              "             rest_type                        cuisines cost    Type  \\\n",
              "0        Casual Dining  North Indian, Mughlai, Chinese  800  Buffet   \n",
              "1        Casual Dining     Chinese, North Indian, Thai  800  Buffet   \n",
              "2  Cafe, Casual Dining          Cafe, Mexican, Italian  800  Buffet   \n",
              "3          Quick Bites      South Indian, North Indian  300  Buffet   \n",
              "4        Casual Dining        North Indian, Rajasthani  600  Buffet   \n",
              "\n",
              "  listed_in(city)  \n",
              "0    Banashankari  \n",
              "1    Banashankari  \n",
              "2    Banashankari  \n",
              "3    Banashankari  \n",
              "4    Banashankari  "
            ]
          },
          "execution_count": 14,
          "metadata": {},
          "output_type": "execute_result"
        }
      ],
      "source": [
        "df.rename(columns = {'approx_cost(for two people)':'cost', 'listed_in(type)':'Type'}, inplace = True)\n",
        "df.head()"
      ]
    },
    {
      "cell_type": "code",
      "execution_count": 15,
      "metadata": {
        "colab": {
          "base_uri": "https://localhost:8080/"
        },
        "execution": {
          "iopub.execute_input": "2021-06-01T09:33:32.198967Z",
          "iopub.status.busy": "2021-06-01T09:33:32.198096Z",
          "iopub.status.idle": "2021-06-01T09:33:32.214787Z",
          "shell.execute_reply": "2021-06-01T09:33:32.213733Z",
          "shell.execute_reply.started": "2021-06-01T09:33:32.198921Z"
        },
        "id": "VHNZHzsNOKKV",
        "outputId": "c5c147c2-33be-4353-90bd-8d4d873e50b5",
        "trusted": true
      },
      "outputs": [
        {
          "data": {
            "text/plain": [
              "array(['Banashankari', 'Basavanagudi', 'Mysore Road', 'Jayanagar',\n",
              "       'Kumaraswamy Layout', 'Rajarajeshwari Nagar', 'Vijay Nagar',\n",
              "       'Uttarahalli', 'JP Nagar', 'South Bangalore', 'City Market',\n",
              "       'Nagarbhavi', 'Bannerghatta Road', 'BTM', 'Kanakapura Road',\n",
              "       'Bommanahalli', 'CV Raman Nagar', 'Electronic City', 'HSR',\n",
              "       'Marathahalli', 'Wilson Garden', 'Shanti Nagar',\n",
              "       'Koramangala 5th Block', 'Koramangala 8th Block', 'Richmond Road',\n",
              "       'Koramangala 7th Block', 'Jalahalli', 'Koramangala 4th Block',\n",
              "       'Bellandur', 'Sarjapur Road', 'Whitefield', 'East Bangalore',\n",
              "       'Old Airport Road', 'Indiranagar', 'Koramangala 1st Block',\n",
              "       'Frazer Town', 'RT Nagar', 'MG Road', 'Brigade Road',\n",
              "       'Lavelle Road', 'Church Street', 'Ulsoor', 'Residency Road',\n",
              "       'Shivajinagar', 'Infantry Road', 'St. Marks Road',\n",
              "       'Cunningham Road', 'Race Course Road', 'Commercial Street',\n",
              "       'Vasanth Nagar', 'HBR Layout', 'Domlur', 'Ejipura',\n",
              "       'Jeevan Bhima Nagar', 'Old Madras Road', 'Malleshwaram',\n",
              "       'Seshadripuram', 'Kammanahalli', 'Koramangala 6th Block',\n",
              "       'Majestic', 'Langford Town', 'Central Bangalore', 'Sanjay Nagar',\n",
              "       'Brookefield', 'ITPL Main Road, Whitefield',\n",
              "       'Varthur Main Road, Whitefield', 'KR Puram',\n",
              "       'Koramangala 2nd Block', 'Koramangala 3rd Block', 'Koramangala',\n",
              "       'Hosur Road', 'Rajajinagar', 'Banaswadi', 'North Bangalore',\n",
              "       'Nagawara', 'Hennur', 'Kalyan Nagar', 'New BEL Road', 'Jakkur',\n",
              "       'Rammurthy Nagar', 'Thippasandra', 'Kaggadasapura', 'Hebbal',\n",
              "       'Kengeri', 'Sankey Road', 'Sadashiv Nagar', 'Basaveshwara Nagar',\n",
              "       'Yeshwantpur', 'West Bangalore', 'Magadi Road', 'Yelahanka',\n",
              "       'Sahakara Nagar', 'Peenya'], dtype=object)"
            ]
          },
          "execution_count": 15,
          "metadata": {},
          "output_type": "execute_result"
        }
      ],
      "source": [
        "df['location'].unique()"
      ]
    },
    {
      "cell_type": "code",
      "execution_count": 16,
      "metadata": {
        "colab": {
          "base_uri": "https://localhost:8080/"
        },
        "execution": {
          "iopub.execute_input": "2021-06-01T09:33:32.217259Z",
          "iopub.status.busy": "2021-06-01T09:33:32.216891Z",
          "iopub.status.idle": "2021-06-01T09:33:32.243144Z",
          "shell.execute_reply": "2021-06-01T09:33:32.24212Z",
          "shell.execute_reply.started": "2021-06-01T09:33:32.217217Z"
        },
        "id": "GBefP0StOKKV",
        "outputId": "32546c37-c9e7-4bcf-9ec0-461d992e0db3",
        "trusted": true
      },
      "outputs": [
        {
          "data": {
            "text/plain": [
              "array(['Banashankari', 'Bannerghatta Road', 'Basavanagudi', 'Bellandur',\n",
              "       'Brigade Road', 'Brookefield', 'BTM', 'Church Street',\n",
              "       'Electronic City', 'Frazer Town', 'HSR', 'Indiranagar',\n",
              "       'Jayanagar', 'JP Nagar', 'Kalyan Nagar', 'Kammanahalli',\n",
              "       'Koramangala 4th Block', 'Koramangala 5th Block',\n",
              "       'Koramangala 6th Block', 'Koramangala 7th Block', 'Lavelle Road',\n",
              "       'Malleshwaram', 'Marathahalli', 'MG Road', 'New BEL Road',\n",
              "       'Old Airport Road', 'Rajajinagar', 'Residency Road',\n",
              "       'Sarjapur Road', 'Whitefield'], dtype=object)"
            ]
          },
          "execution_count": 16,
          "metadata": {},
          "output_type": "execute_result"
        }
      ],
      "source": [
        "df['listed_in(city)'].unique()"
      ]
    },
    {
      "cell_type": "markdown",
      "metadata": {
        "id": "TF9l5BXMOKKW"
      },
      "source": [
        "## Listed in(city) and location, both are there, lets keep only one."
      ]
    },
    {
      "cell_type": "code",
      "execution_count": 17,
      "metadata": {
        "execution": {
          "iopub.execute_input": "2021-06-01T09:33:32.244724Z",
          "iopub.status.busy": "2021-06-01T09:33:32.244379Z",
          "iopub.status.idle": "2021-06-01T09:33:32.262804Z",
          "shell.execute_reply": "2021-06-01T09:33:32.261792Z",
          "shell.execute_reply.started": "2021-06-01T09:33:32.244674Z"
        },
        "id": "e9aS8MVeOKKW",
        "trusted": true
      },
      "outputs": [],
      "source": [
        "df = df.drop(['listed_in(city)'], axis = 1)"
      ]
    },
    {
      "cell_type": "code",
      "execution_count": 18,
      "metadata": {
        "colab": {
          "base_uri": "https://localhost:8080/"
        },
        "execution": {
          "iopub.execute_input": "2021-06-01T09:33:32.266389Z",
          "iopub.status.busy": "2021-06-01T09:33:32.264842Z",
          "iopub.status.idle": "2021-06-01T09:33:32.284399Z",
          "shell.execute_reply": "2021-06-01T09:33:32.282679Z",
          "shell.execute_reply.started": "2021-06-01T09:33:32.266325Z"
        },
        "id": "qaNgpOLnOKKW",
        "outputId": "f471e52d-1083-4dc7-b5cd-e1d81e37d57b",
        "trusted": true
      },
      "outputs": [
        {
          "data": {
            "text/plain": [
              "array(['800', '300', '600', '700', '550', '500', '450', '650', '400',\n",
              "       '900', '200', '750', '150', '850', '100', '1,200', '350', '250',\n",
              "       '950', '1,000', '1,500', '1,300', '199', '80', '1,100', '160',\n",
              "       '1,600', '230', '130', '50', '190', '1,700', '1,400', '180',\n",
              "       '1,350', '2,200', '2,000', '1,800', '1,900', '330', '2,500',\n",
              "       '2,100', '3,000', '2,800', '3,400', '40', '1,250', '3,500',\n",
              "       '4,000', '2,400', '2,600', '120', '1,450', '469', '70', '3,200',\n",
              "       '60', '560', '240', '360', '6,000', '1,050', '2,300', '4,100',\n",
              "       '5,000', '3,700', '1,650', '2,700', '4,500', '140'], dtype=object)"
            ]
          },
          "execution_count": 18,
          "metadata": {},
          "output_type": "execute_result"
        }
      ],
      "source": [
        "df['cost'].unique()"
      ]
    },
    {
      "cell_type": "markdown",
      "metadata": {
        "id": "U0gU65saOKKX"
      },
      "source": [
        "## Removing , from cost Column"
      ]
    },
    {
      "cell_type": "code",
      "execution_count": 19,
      "metadata": {
        "colab": {
          "base_uri": "https://localhost:8080/"
        },
        "execution": {
          "iopub.execute_input": "2021-06-01T09:33:32.287588Z",
          "iopub.status.busy": "2021-06-01T09:33:32.287076Z",
          "iopub.status.idle": "2021-06-01T09:33:32.352844Z",
          "shell.execute_reply": "2021-06-01T09:33:32.351108Z",
          "shell.execute_reply.started": "2021-06-01T09:33:32.287539Z"
        },
        "id": "MurxgXLpOKKX",
        "outputId": "36bc9489-024a-4b54-90d5-4a33273a3578",
        "trusted": true
      },
      "outputs": [
        {
          "data": {
            "text/plain": [
              "array([ 800.,  300.,  600.,  700.,  550.,  500.,  450.,  650.,  400.,\n",
              "        900.,  200.,  750.,  150.,  850.,  100., 1200.,  350.,  250.,\n",
              "        950., 1000., 1500., 1300.,  199.,   80., 1100.,  160., 1600.,\n",
              "        230.,  130.,   50.,  190., 1700., 1400.,  180., 1350., 2200.,\n",
              "       2000., 1800., 1900.,  330., 2500., 2100., 3000., 2800., 3400.,\n",
              "         40., 1250., 3500., 4000., 2400., 2600.,  120., 1450.,  469.,\n",
              "         70., 3200.,   60.,  560.,  240.,  360., 6000., 1050., 2300.,\n",
              "       4100., 5000., 3700., 1650., 2700., 4500.,  140.])"
            ]
          },
          "execution_count": 19,
          "metadata": {},
          "output_type": "execute_result"
        }
      ],
      "source": [
        "def handlecomma(value):\n",
        "    value = str(value)\n",
        "    if ',' in value:\n",
        "        value = value.replace(',', '')\n",
        "        return float(value)\n",
        "    else:\n",
        "        return float(value)\n",
        "\n",
        "df['cost'] = df['cost'].apply(handlecomma)\n",
        "df['cost'].unique()\n"
      ]
    },
    {
      "cell_type": "code",
      "execution_count": 20,
      "metadata": {
        "colab": {
          "base_uri": "https://localhost:8080/",
          "height": 0
        },
        "execution": {
          "iopub.execute_input": "2021-06-01T09:33:32.356213Z",
          "iopub.status.busy": "2021-06-01T09:33:32.35552Z",
          "iopub.status.idle": "2021-06-01T09:33:32.379854Z",
          "shell.execute_reply": "2021-06-01T09:33:32.378081Z",
          "shell.execute_reply.started": "2021-06-01T09:33:32.356154Z"
        },
        "id": "R9KKeqtTOKKY",
        "outputId": "5f86d255-7371-48ca-9601-0eeb6072aa9e",
        "trusted": true
      },
      "outputs": [
        {
          "data": {
            "text/html": [
              "<div>\n",
              "<style scoped>\n",
              "    .dataframe tbody tr th:only-of-type {\n",
              "        vertical-align: middle;\n",
              "    }\n",
              "\n",
              "    .dataframe tbody tr th {\n",
              "        vertical-align: top;\n",
              "    }\n",
              "\n",
              "    .dataframe thead th {\n",
              "        text-align: right;\n",
              "    }\n",
              "</style>\n",
              "<table border=\"1\" class=\"dataframe\">\n",
              "  <thead>\n",
              "    <tr style=\"text-align: right;\">\n",
              "      <th></th>\n",
              "      <th>name</th>\n",
              "      <th>online_order</th>\n",
              "      <th>book_table</th>\n",
              "      <th>rate</th>\n",
              "      <th>votes</th>\n",
              "      <th>location</th>\n",
              "      <th>rest_type</th>\n",
              "      <th>cuisines</th>\n",
              "      <th>cost</th>\n",
              "      <th>Type</th>\n",
              "    </tr>\n",
              "  </thead>\n",
              "  <tbody>\n",
              "    <tr>\n",
              "      <th>0</th>\n",
              "      <td>Jalsa</td>\n",
              "      <td>Yes</td>\n",
              "      <td>Yes</td>\n",
              "      <td>4.1</td>\n",
              "      <td>775</td>\n",
              "      <td>Banashankari</td>\n",
              "      <td>Casual Dining</td>\n",
              "      <td>North Indian, Mughlai, Chinese</td>\n",
              "      <td>800.0</td>\n",
              "      <td>Buffet</td>\n",
              "    </tr>\n",
              "    <tr>\n",
              "      <th>1</th>\n",
              "      <td>Spice Elephant</td>\n",
              "      <td>Yes</td>\n",
              "      <td>No</td>\n",
              "      <td>4.1</td>\n",
              "      <td>787</td>\n",
              "      <td>Banashankari</td>\n",
              "      <td>Casual Dining</td>\n",
              "      <td>Chinese, North Indian, Thai</td>\n",
              "      <td>800.0</td>\n",
              "      <td>Buffet</td>\n",
              "    </tr>\n",
              "    <tr>\n",
              "      <th>2</th>\n",
              "      <td>San Churro Cafe</td>\n",
              "      <td>Yes</td>\n",
              "      <td>No</td>\n",
              "      <td>3.8</td>\n",
              "      <td>918</td>\n",
              "      <td>Banashankari</td>\n",
              "      <td>Cafe, Casual Dining</td>\n",
              "      <td>Cafe, Mexican, Italian</td>\n",
              "      <td>800.0</td>\n",
              "      <td>Buffet</td>\n",
              "    </tr>\n",
              "    <tr>\n",
              "      <th>3</th>\n",
              "      <td>Addhuri Udupi Bhojana</td>\n",
              "      <td>No</td>\n",
              "      <td>No</td>\n",
              "      <td>3.7</td>\n",
              "      <td>88</td>\n",
              "      <td>Banashankari</td>\n",
              "      <td>Quick Bites</td>\n",
              "      <td>South Indian, North Indian</td>\n",
              "      <td>300.0</td>\n",
              "      <td>Buffet</td>\n",
              "    </tr>\n",
              "    <tr>\n",
              "      <th>4</th>\n",
              "      <td>Grand Village</td>\n",
              "      <td>No</td>\n",
              "      <td>No</td>\n",
              "      <td>3.8</td>\n",
              "      <td>166</td>\n",
              "      <td>Basavanagudi</td>\n",
              "      <td>Casual Dining</td>\n",
              "      <td>North Indian, Rajasthani</td>\n",
              "      <td>600.0</td>\n",
              "      <td>Buffet</td>\n",
              "    </tr>\n",
              "  </tbody>\n",
              "</table>\n",
              "</div>"
            ],
            "text/plain": [
              "                    name online_order book_table  rate  votes      location  \\\n",
              "0                  Jalsa          Yes        Yes   4.1    775  Banashankari   \n",
              "1         Spice Elephant          Yes         No   4.1    787  Banashankari   \n",
              "2        San Churro Cafe          Yes         No   3.8    918  Banashankari   \n",
              "3  Addhuri Udupi Bhojana           No         No   3.7     88  Banashankari   \n",
              "4          Grand Village           No         No   3.8    166  Basavanagudi   \n",
              "\n",
              "             rest_type                        cuisines   cost    Type  \n",
              "0        Casual Dining  North Indian, Mughlai, Chinese  800.0  Buffet  \n",
              "1        Casual Dining     Chinese, North Indian, Thai  800.0  Buffet  \n",
              "2  Cafe, Casual Dining          Cafe, Mexican, Italian  800.0  Buffet  \n",
              "3          Quick Bites      South Indian, North Indian  300.0  Buffet  \n",
              "4        Casual Dining        North Indian, Rajasthani  600.0  Buffet  "
            ]
          },
          "execution_count": 20,
          "metadata": {},
          "output_type": "execute_result"
        }
      ],
      "source": [
        "df.head()"
      ]
    },
    {
      "cell_type": "markdown",
      "metadata": {
        "id": "U9SzB-xkOKKY"
      },
      "source": [
        "## Cleaning restaurant types Column"
      ]
    },
    {
      "cell_type": "code",
      "execution_count": 21,
      "metadata": {
        "colab": {
          "base_uri": "https://localhost:8080/",
          "height": 0
        },
        "execution": {
          "iopub.execute_input": "2021-06-01T09:33:32.382453Z",
          "iopub.status.busy": "2021-06-01T09:33:32.381888Z",
          "iopub.status.idle": "2021-06-01T09:33:32.417647Z",
          "shell.execute_reply": "2021-06-01T09:33:32.416435Z",
          "shell.execute_reply.started": "2021-06-01T09:33:32.382399Z"
        },
        "id": "er20Yy1AOKKY",
        "outputId": "344555e2-0006-4a20-b7e9-163c8511134f",
        "trusted": true
      },
      "outputs": [
        {
          "data": {
            "text/plain": [
              "rest_type\n",
              "Quick Bites                   19010\n",
              "Casual Dining                 10253\n",
              "Cafe                           3682\n",
              "Delivery                       2574\n",
              "Dessert Parlor                 2242\n",
              "                              ...  \n",
              "Dessert Parlor, Kiosk             2\n",
              "Food Court, Beverage Shop         2\n",
              "Dessert Parlor, Food Court        2\n",
              "Quick Bites, Kiosk                1\n",
              "Sweet Shop, Dessert Parlor        1\n",
              "Name: count, Length: 93, dtype: int64"
            ]
          },
          "execution_count": 21,
          "metadata": {},
          "output_type": "execute_result"
        }
      ],
      "source": [
        "rest_types = df['rest_type'].value_counts(ascending  = False)\n",
        "rest_types"
      ]
    },
    {
      "cell_type": "code",
      "execution_count": 22,
      "metadata": {
        "colab": {
          "base_uri": "https://localhost:8080/",
          "height": 0
        },
        "execution": {
          "iopub.execute_input": "2021-06-01T09:33:32.419264Z",
          "iopub.status.busy": "2021-06-01T09:33:32.418969Z",
          "iopub.status.idle": "2021-06-01T09:33:32.437573Z",
          "shell.execute_reply": "2021-06-01T09:33:32.436854Z",
          "shell.execute_reply.started": "2021-06-01T09:33:32.419234Z"
        },
        "id": "tbf4RpZIOKKY",
        "outputId": "0fba5cb3-82e0-4b7d-dbf5-c89a4af64ccb",
        "trusted": true
      },
      "outputs": [
        {
          "data": {
            "text/plain": [
              "rest_type\n",
              "Beverage Shop                 863\n",
              "Bar                           686\n",
              "Food Court                    616\n",
              "Sweet Shop                    468\n",
              "Bar, Casual Dining            411\n",
              "                             ... \n",
              "Dessert Parlor, Kiosk           2\n",
              "Food Court, Beverage Shop       2\n",
              "Dessert Parlor, Food Court      2\n",
              "Quick Bites, Kiosk              1\n",
              "Sweet Shop, Dessert Parlor      1\n",
              "Name: count, Length: 85, dtype: int64"
            ]
          },
          "execution_count": 22,
          "metadata": {},
          "output_type": "execute_result"
        }
      ],
      "source": [
        "rest_types_lessthan1000 = rest_types[rest_types<1000]\n",
        "rest_types_lessthan1000"
      ]
    },
    {
      "cell_type": "markdown",
      "metadata": {
        "id": "OOPjgJTvOKKZ"
      },
      "source": [
        "## Making Rest Types less than 1000 in frequency as others"
      ]
    },
    {
      "cell_type": "code",
      "execution_count": 23,
      "metadata": {
        "colab": {
          "base_uri": "https://localhost:8080/",
          "height": 0
        },
        "execution": {
          "iopub.execute_input": "2021-06-01T09:33:32.438899Z",
          "iopub.status.busy": "2021-06-01T09:33:32.438562Z",
          "iopub.status.idle": "2021-06-01T09:33:32.556194Z",
          "shell.execute_reply": "2021-06-01T09:33:32.555118Z",
          "shell.execute_reply.started": "2021-06-01T09:33:32.438869Z"
        },
        "id": "HdElBsi9OKKZ",
        "outputId": "e36857c9-039f-4144-d7c8-65bcc9e18e9f",
        "trusted": true
      },
      "outputs": [
        {
          "data": {
            "text/plain": [
              "rest_type\n",
              "Quick Bites           19010\n",
              "Casual Dining         10253\n",
              "others                 9003\n",
              "Cafe                   3682\n",
              "Delivery               2574\n",
              "Dessert Parlor         2242\n",
              "Takeaway, Delivery     2008\n",
              "Bakery                 1140\n",
              "Casual Dining, Bar     1130\n",
              "Name: count, dtype: int64"
            ]
          },
          "execution_count": 23,
          "metadata": {},
          "output_type": "execute_result"
        }
      ],
      "source": [
        "def handle_rest_type(value):\n",
        "    if(value in rest_types_lessthan1000):\n",
        "        return 'others'\n",
        "    else:\n",
        "        return value\n",
        "\n",
        "df['rest_type'] = df['rest_type'].apply(handle_rest_type)\n",
        "df['rest_type'].value_counts()\n"
      ]
    },
    {
      "cell_type": "markdown",
      "metadata": {
        "id": "AyV2CC3BOKKZ"
      },
      "source": [
        "## Cleaning Location Column"
      ]
    },
    {
      "cell_type": "code",
      "execution_count": 24,
      "metadata": {
        "colab": {
          "base_uri": "https://localhost:8080/",
          "height": 0
        },
        "execution": {
          "iopub.execute_input": "2021-06-01T09:33:32.557811Z",
          "iopub.status.busy": "2021-06-01T09:33:32.557451Z",
          "iopub.status.idle": "2021-06-01T09:33:32.673197Z",
          "shell.execute_reply": "2021-06-01T09:33:32.671853Z",
          "shell.execute_reply.started": "2021-06-01T09:33:32.557779Z"
        },
        "id": "9BSPWnC4OKKZ",
        "outputId": "96dffa44-5c82-499e-83b7-d5ab03cece69",
        "trusted": true
      },
      "outputs": [
        {
          "data": {
            "text/plain": [
              "location\n",
              "BTM                      5056\n",
              "others                   4954\n",
              "HSR                      2494\n",
              "Koramangala 5th Block    2479\n",
              "JP Nagar                 2218\n",
              "Whitefield               2105\n",
              "Indiranagar              2026\n",
              "Jayanagar                1916\n",
              "Marathahalli             1805\n",
              "Bannerghatta Road        1609\n",
              "Bellandur                1268\n",
              "Electronic City          1246\n",
              "Koramangala 1st Block    1236\n",
              "Brigade Road             1210\n",
              "Koramangala 7th Block    1174\n",
              "Koramangala 6th Block    1127\n",
              "Sarjapur Road            1047\n",
              "Koramangala 4th Block    1017\n",
              "Ulsoor                   1011\n",
              "Banashankari              902\n",
              "MG Road                   893\n",
              "Kalyan Nagar              841\n",
              "Richmond Road             803\n",
              "Malleshwaram              721\n",
              "Frazer Town               714\n",
              "Basavanagudi              684\n",
              "Residency Road            671\n",
              "Brookefield               656\n",
              "New BEL Road              644\n",
              "Banaswadi                 640\n",
              "Kammanahalli              639\n",
              "Rajajinagar               591\n",
              "Church Street             566\n",
              "Lavelle Road              518\n",
              "Shanti Nagar              508\n",
              "Shivajinagar              498\n",
              "Cunningham Road           490\n",
              "Domlur                    482\n",
              "Old Airport Road          437\n",
              "Ejipura                   433\n",
              "Commercial Street         370\n",
              "St. Marks Road            343\n",
              "Name: count, dtype: int64"
            ]
          },
          "execution_count": 24,
          "metadata": {},
          "output_type": "execute_result"
        }
      ],
      "source": [
        "location = df['location'].value_counts(ascending  = False)\n",
        "\n",
        "location_lessthan300 = location[location<300]\n",
        "\n",
        "\n",
        "\n",
        "def handle_location(value):\n",
        "    if(value in location_lessthan300):\n",
        "        return 'others'\n",
        "    else:\n",
        "        return value\n",
        "\n",
        "df['location'] = df['location'].apply(handle_location)\n",
        "df['location'].value_counts()"
      ]
    },
    {
      "cell_type": "markdown",
      "metadata": {
        "id": "GcmpgdRXOKKZ"
      },
      "source": [
        "## Cleaning Cuisines Column"
      ]
    },
    {
      "cell_type": "code",
      "execution_count": 25,
      "metadata": {
        "colab": {
          "base_uri": "https://localhost:8080/",
          "height": 0
        },
        "execution": {
          "iopub.execute_input": "2021-06-01T09:33:32.678845Z",
          "iopub.status.busy": "2021-06-01T09:33:32.678474Z",
          "iopub.status.idle": "2021-06-01T09:33:32.801248Z",
          "shell.execute_reply": "2021-06-01T09:33:32.799868Z",
          "shell.execute_reply.started": "2021-06-01T09:33:32.678811Z"
        },
        "id": "IPyeJ3HzOKKa",
        "outputId": "e5e6c101-6528-44a8-a5e4-96ea3753e25b",
        "trusted": true
      },
      "outputs": [
        {
          "data": {
            "text/plain": [
              "cuisines\n",
              "others                                 26159\n",
              "North Indian                            2852\n",
              "North Indian, Chinese                   2351\n",
              "South Indian                            1820\n",
              "Biryani                                  903\n",
              "                                       ...  \n",
              "South Indian, Chinese, North Indian      105\n",
              "North Indian, Mughlai, Chinese           104\n",
              "South Indian, Fast Food                  104\n",
              "Italian, Pizza                           102\n",
              "North Indian, Chinese, Seafood           102\n",
              "Name: count, Length: 70, dtype: int64"
            ]
          },
          "execution_count": 25,
          "metadata": {},
          "output_type": "execute_result"
        }
      ],
      "source": [
        "cuisines = df['cuisines'].value_counts(ascending  = False)\n",
        "\n",
        "\n",
        "cuisines_lessthan100 = cuisines[cuisines<100]\n",
        "\n",
        "\n",
        "\n",
        "def handle_cuisines(value):\n",
        "    if(value in cuisines_lessthan100):\n",
        "        return 'others'\n",
        "    else:\n",
        "        return value\n",
        "\n",
        "df['cuisines'] = df['cuisines'].apply(handle_cuisines)\n",
        "df['cuisines'].value_counts()\n"
      ]
    },
    {
      "cell_type": "code",
      "execution_count": 26,
      "metadata": {
        "colab": {
          "base_uri": "https://localhost:8080/",
          "height": 0
        },
        "execution": {
          "iopub.execute_input": "2021-06-01T09:33:32.805181Z",
          "iopub.status.busy": "2021-06-01T09:33:32.804476Z",
          "iopub.status.idle": "2021-06-01T09:33:32.825438Z",
          "shell.execute_reply": "2021-06-01T09:33:32.824208Z",
          "shell.execute_reply.started": "2021-06-01T09:33:32.80498Z"
        },
        "id": "n_A4D3BQOKKg",
        "outputId": "0f8c69e8-8ba0-4028-cfc3-69af5b8e27f6",
        "trusted": true
      },
      "outputs": [
        {
          "data": {
            "text/html": [
              "<div>\n",
              "<style scoped>\n",
              "    .dataframe tbody tr th:only-of-type {\n",
              "        vertical-align: middle;\n",
              "    }\n",
              "\n",
              "    .dataframe tbody tr th {\n",
              "        vertical-align: top;\n",
              "    }\n",
              "\n",
              "    .dataframe thead th {\n",
              "        text-align: right;\n",
              "    }\n",
              "</style>\n",
              "<table border=\"1\" class=\"dataframe\">\n",
              "  <thead>\n",
              "    <tr style=\"text-align: right;\">\n",
              "      <th></th>\n",
              "      <th>name</th>\n",
              "      <th>online_order</th>\n",
              "      <th>book_table</th>\n",
              "      <th>rate</th>\n",
              "      <th>votes</th>\n",
              "      <th>location</th>\n",
              "      <th>rest_type</th>\n",
              "      <th>cuisines</th>\n",
              "      <th>cost</th>\n",
              "      <th>Type</th>\n",
              "    </tr>\n",
              "  </thead>\n",
              "  <tbody>\n",
              "    <tr>\n",
              "      <th>0</th>\n",
              "      <td>Jalsa</td>\n",
              "      <td>Yes</td>\n",
              "      <td>Yes</td>\n",
              "      <td>4.1</td>\n",
              "      <td>775</td>\n",
              "      <td>Banashankari</td>\n",
              "      <td>Casual Dining</td>\n",
              "      <td>North Indian, Mughlai, Chinese</td>\n",
              "      <td>800.0</td>\n",
              "      <td>Buffet</td>\n",
              "    </tr>\n",
              "    <tr>\n",
              "      <th>1</th>\n",
              "      <td>Spice Elephant</td>\n",
              "      <td>Yes</td>\n",
              "      <td>No</td>\n",
              "      <td>4.1</td>\n",
              "      <td>787</td>\n",
              "      <td>Banashankari</td>\n",
              "      <td>Casual Dining</td>\n",
              "      <td>others</td>\n",
              "      <td>800.0</td>\n",
              "      <td>Buffet</td>\n",
              "    </tr>\n",
              "    <tr>\n",
              "      <th>2</th>\n",
              "      <td>San Churro Cafe</td>\n",
              "      <td>Yes</td>\n",
              "      <td>No</td>\n",
              "      <td>3.8</td>\n",
              "      <td>918</td>\n",
              "      <td>Banashankari</td>\n",
              "      <td>others</td>\n",
              "      <td>others</td>\n",
              "      <td>800.0</td>\n",
              "      <td>Buffet</td>\n",
              "    </tr>\n",
              "    <tr>\n",
              "      <th>3</th>\n",
              "      <td>Addhuri Udupi Bhojana</td>\n",
              "      <td>No</td>\n",
              "      <td>No</td>\n",
              "      <td>3.7</td>\n",
              "      <td>88</td>\n",
              "      <td>Banashankari</td>\n",
              "      <td>Quick Bites</td>\n",
              "      <td>South Indian, North Indian</td>\n",
              "      <td>300.0</td>\n",
              "      <td>Buffet</td>\n",
              "    </tr>\n",
              "    <tr>\n",
              "      <th>4</th>\n",
              "      <td>Grand Village</td>\n",
              "      <td>No</td>\n",
              "      <td>No</td>\n",
              "      <td>3.8</td>\n",
              "      <td>166</td>\n",
              "      <td>Basavanagudi</td>\n",
              "      <td>Casual Dining</td>\n",
              "      <td>others</td>\n",
              "      <td>600.0</td>\n",
              "      <td>Buffet</td>\n",
              "    </tr>\n",
              "  </tbody>\n",
              "</table>\n",
              "</div>"
            ],
            "text/plain": [
              "                    name online_order book_table  rate  votes      location  \\\n",
              "0                  Jalsa          Yes        Yes   4.1    775  Banashankari   \n",
              "1         Spice Elephant          Yes         No   4.1    787  Banashankari   \n",
              "2        San Churro Cafe          Yes         No   3.8    918  Banashankari   \n",
              "3  Addhuri Udupi Bhojana           No         No   3.7     88  Banashankari   \n",
              "4          Grand Village           No         No   3.8    166  Basavanagudi   \n",
              "\n",
              "       rest_type                        cuisines   cost    Type  \n",
              "0  Casual Dining  North Indian, Mughlai, Chinese  800.0  Buffet  \n",
              "1  Casual Dining                          others  800.0  Buffet  \n",
              "2         others                          others  800.0  Buffet  \n",
              "3    Quick Bites      South Indian, North Indian  300.0  Buffet  \n",
              "4  Casual Dining                          others  600.0  Buffet  "
            ]
          },
          "execution_count": 26,
          "metadata": {},
          "output_type": "execute_result"
        }
      ],
      "source": [
        "df.head()"
      ]
    },
    {
      "cell_type": "markdown",
      "metadata": {
        "id": "rbnlIvY8OKKh"
      },
      "source": [
        "## **Data is Clean, Lets jump to Visualization**"
      ]
    },
    {
      "cell_type": "markdown",
      "metadata": {
        "id": "R1CvN16VOKKh"
      },
      "source": [
        "## Count Plot of Various Locations"
      ]
    },
    {
      "cell_type": "code",
      "execution_count": 27,
      "metadata": {
        "colab": {
          "base_uri": "https://localhost:8080/",
          "height": 0
        },
        "execution": {
          "iopub.execute_input": "2021-06-01T09:37:04.547529Z",
          "iopub.status.busy": "2021-06-01T09:37:04.547061Z",
          "iopub.status.idle": "2021-06-01T09:37:05.164014Z",
          "shell.execute_reply": "2021-06-01T09:37:05.162904Z",
          "shell.execute_reply.started": "2021-06-01T09:37:04.547494Z"
        },
        "id": "eO-HuRFHOKKh",
        "outputId": "3dd8b48e-a9f9-4dfb-bbfa-9eb6e295f367",
        "trusted": true
      },
      "outputs": [
        {
          "data": {
            "text/plain": [
              "(array([   0., 1000., 2000., 3000., 4000., 5000., 6000.]),\n",
              " [Text(0.0, 0, '0'),\n",
              "  Text(1000.0, 0, '1000'),\n",
              "  Text(2000.0, 0, '2000'),\n",
              "  Text(3000.0, 0, '3000'),\n",
              "  Text(4000.0, 0, '4000'),\n",
              "  Text(5000.0, 0, '5000'),\n",
              "  Text(6000.0, 0, '6000')])"
            ]
          },
          "execution_count": 27,
          "metadata": {},
          "output_type": "execute_result"
        },
        {
          "data": {
            "image/png": "[encoded data removed]",
            "text/plain": [
              "<Figure size 1600x1000 with 1 Axes>"
            ]
          },
          "metadata": {},
          "output_type": "display_data"
        }
      ],
      "source": [
        "plt.figure(figsize = (16,10))\n",
        "ax = sns.countplot(df['location'])\n",
        "plt.xticks(rotation=90)"
      ]
    },
    {
      "cell_type": "markdown",
      "metadata": {
        "id": "ZW10i5mWOKKi"
      },
      "source": [
        "## Visualizing Online Order"
      ]
    },
    {
      "cell_type": "code",
      "execution_count": 28,
      "metadata": {
        "colab": {
          "base_uri": "https://localhost:8080/",
          "height": 0
        },
        "execution": {
          "iopub.execute_input": "2021-06-01T09:33:33.426629Z",
          "iopub.status.busy": "2021-06-01T09:33:33.426316Z",
          "iopub.status.idle": "2021-06-01T09:33:33.61505Z",
          "shell.execute_reply": "2021-06-01T09:33:33.613507Z",
          "shell.execute_reply.started": "2021-06-01T09:33:33.426595Z"
        },
        "id": "2ARorL5-OKKi",
        "outputId": "8f6ec9ab-f822-4cad-eb41-669d820b268f",
        "trusted": true
      },
      "outputs": [
        {
          "name": "stderr",
          "output_type": "stream",
          "text": [
            "C:\\Users\\ABDALRAHMAN\\AppData\\Local\\Temp\\ipykernel_1336\\2251546332.py:2: FutureWarning: \n",
            "\n",
            "Passing `palette` without assigning `hue` is deprecated and will be removed in v0.14.0. Assign the `y` variable to `hue` and set `legend=False` for the same effect.\n",
            "\n",
            "  sns.countplot(df['online_order'], palette = 'inferno')\n"
          ]
        },
        {
          "data": {
            "text/plain": [
              "<Axes: xlabel='count', ylabel='online_order'>"
            ]
          },
          "execution_count": 28,
          "metadata": {},
          "output_type": "execute_result"
        },
        {
          "data": {
            "image/png": "[encoded data removed]",
            "text/plain": [
              "<Figure size 600x600 with 1 Axes>"
            ]
          },
          "metadata": {},
          "output_type": "display_data"
        }
      ],
      "source": [
        "plt.figure(figsize = (6,6))\n",
        "sns.countplot(df['online_order'], palette = 'inferno')"
      ]
    },
    {
      "cell_type": "markdown",
      "metadata": {
        "id": "RacdHZmlOKKi"
      },
      "source": [
        "## Visualizing Book Table"
      ]
    },
    {
      "cell_type": "code",
      "execution_count": 29,
      "metadata": {
        "colab": {
          "base_uri": "https://localhost:8080/",
          "height": 0
        },
        "execution": {
          "iopub.execute_input": "2021-06-01T09:33:33.616832Z",
          "iopub.status.busy": "2021-06-01T09:33:33.61653Z",
          "iopub.status.idle": "2021-06-01T09:33:33.78761Z",
          "shell.execute_reply": "2021-06-01T09:33:33.786428Z",
          "shell.execute_reply.started": "2021-06-01T09:33:33.616802Z"
        },
        "id": "CvKEchTLOKKi",
        "outputId": "15031378-4dda-411e-cdcf-55911f201b6f",
        "trusted": true
      },
      "outputs": [
        {
          "name": "stderr",
          "output_type": "stream",
          "text": [
            "C:\\Users\\ABDALRAHMAN\\AppData\\Local\\Temp\\ipykernel_1336\\222089420.py:2: FutureWarning: \n",
            "\n",
            "Passing `palette` without assigning `hue` is deprecated and will be removed in v0.14.0. Assign the `y` variable to `hue` and set `legend=False` for the same effect.\n",
            "\n",
            "  sns.countplot(df['book_table'], palette = 'rainbow')\n"
          ]
        },
        {
          "data": {
            "text/plain": [
              "<Axes: xlabel='count', ylabel='book_table'>"
            ]
          },
          "execution_count": 29,
          "metadata": {},
          "output_type": "execute_result"
        },
        {
          "data": {
            "image/png": "[encoded data removed]",
            "text/plain": [
              "<Figure size 600x600 with 1 Axes>"
            ]
          },
          "metadata": {},
          "output_type": "display_data"
        }
      ],
      "source": [
        "plt.figure(figsize = (6,6))\n",
        "sns.countplot(df['book_table'], palette = 'rainbow')"
      ]
    },
    {
      "cell_type": "markdown",
      "metadata": {
        "id": "rKYmb6m9OKKj"
      },
      "source": [
        "## Visualizing Online Order vs Rate"
      ]
    },
    {
      "cell_type": "code",
      "execution_count": 30,
      "metadata": {
        "colab": {
          "base_uri": "https://localhost:8080/",
          "height": 0
        },
        "execution": {
          "iopub.execute_input": "2021-06-01T09:33:33.790685Z",
          "iopub.status.busy": "2021-06-01T09:33:33.790128Z",
          "iopub.status.idle": "2021-06-01T09:33:34.297863Z",
          "shell.execute_reply": "2021-06-01T09:33:34.296631Z",
          "shell.execute_reply.started": "2021-06-01T09:33:33.790461Z"
        },
        "id": "YTblpqbtOKKj",
        "outputId": "9e9a8ff5-b3eb-4ebd-d26a-b65673be1d33",
        "trusted": true
      },
      "outputs": [
        {
          "data": {
            "text/plain": [
              "<Axes: xlabel='online_order', ylabel='rate'>"
            ]
          },
          "execution_count": 30,
          "metadata": {},
          "output_type": "execute_result"
        },
        {
          "data": {
            "image/png": "[encoded data removed]",
            "text/plain": [
              "<Figure size 600x600 with 1 Axes>"
            ]
          },
          "metadata": {},
          "output_type": "display_data"
        }
      ],
      "source": [
        "plt.figure(figsize = (6,6))\n",
        "sns.boxplot(x = 'online_order', y = 'rate', data = df)"
      ]
    },
    {
      "cell_type": "markdown",
      "metadata": {
        "id": "1mpv7i68OKKj"
      },
      "source": [
        "## Visualizing Book Table vs Rate"
      ]
    },
    {
      "cell_type": "code",
      "execution_count": 31,
      "metadata": {
        "colab": {
          "base_uri": "https://localhost:8080/",
          "height": 0
        },
        "execution": {
          "iopub.execute_input": "2021-06-01T09:33:34.299547Z",
          "iopub.status.busy": "2021-06-01T09:33:34.299252Z",
          "iopub.status.idle": "2021-06-01T09:33:34.483811Z",
          "shell.execute_reply": "2021-06-01T09:33:34.482868Z",
          "shell.execute_reply.started": "2021-06-01T09:33:34.299515Z"
        },
        "id": "s8uS2HhhOKKj",
        "outputId": "679855d9-cbf0-4705-e8fa-dcaedda7d2b0",
        "trusted": true
      },
      "outputs": [
        {
          "data": {
            "text/plain": [
              "<Axes: xlabel='book_table', ylabel='rate'>"
            ]
          },
          "execution_count": 31,
          "metadata": {},
          "output_type": "execute_result"
        },
        {
          "data": {
            "image/png": "[encoded data removed]",
            "text/plain": [
              "<Figure size 600x600 with 1 Axes>"
            ]
          },
          "metadata": {},
          "output_type": "display_data"
        }
      ],
      "source": [
        "plt.figure(figsize = (6,6))\n",
        "sns.boxplot(x = 'book_table', y = 'rate', data = df)"
      ]
    },
    {
      "cell_type": "markdown",
      "metadata": {
        "id": "h2uOsOK1OKKj"
      },
      "source": [
        "## Visualizing Online Order Facility, Location Wise"
      ]
    },
    {
      "cell_type": "code",
      "execution_count": 32,
      "metadata": {
        "colab": {
          "base_uri": "https://localhost:8080/",
          "height": 0
        },
        "execution": {
          "iopub.execute_input": "2021-06-01T09:33:34.485373Z",
          "iopub.status.busy": "2021-06-01T09:33:34.484941Z",
          "iopub.status.idle": "2021-06-01T09:33:34.535096Z",
          "shell.execute_reply": "2021-06-01T09:33:34.533501Z",
          "shell.execute_reply.started": "2021-06-01T09:33:34.485329Z"
        },
        "id": "JreujujKOKKk",
        "outputId": "3175191d-49a9-483d-c75e-dc058bca7f61",
        "trusted": true
      },
      "outputs": [
        {
          "name": "stderr",
          "output_type": "stream",
          "text": [
            "C:\\Users\\ABDALRAHMAN\\AppData\\Local\\Temp\\ipykernel_1336\\2546502282.py:4: FutureWarning: The provided callable <function sum at 0x000001B494DE1DA0> is currently using DataFrameGroupBy.sum. In a future version of pandas, the provided callable will be used directly. To keep current behavior pass the string \"sum\" instead.\n",
            "  df1 = pd.pivot_table(df1, values=None, index=['location'], columns=['online_order'], fill_value=0, aggfunc=np.sum)\n"
          ]
        },
        {
          "data": {
            "text/html": [
              "<div>\n",
              "<style scoped>\n",
              "    .dataframe tbody tr th:only-of-type {\n",
              "        vertical-align: middle;\n",
              "    }\n",
              "\n",
              "    .dataframe tbody tr th {\n",
              "        vertical-align: top;\n",
              "    }\n",
              "\n",
              "    .dataframe thead tr th {\n",
              "        text-align: left;\n",
              "    }\n",
              "\n",
              "    .dataframe thead tr:last-of-type th {\n",
              "        text-align: right;\n",
              "    }\n",
              "</style>\n",
              "<table border=\"1\" class=\"dataframe\">\n",
              "  <thead>\n",
              "    <tr>\n",
              "      <th></th>\n",
              "      <th colspan=\"2\" halign=\"left\">name</th>\n",
              "    </tr>\n",
              "    <tr>\n",
              "      <th>online_order</th>\n",
              "      <th>No</th>\n",
              "      <th>Yes</th>\n",
              "    </tr>\n",
              "    <tr>\n",
              "      <th>location</th>\n",
              "      <th></th>\n",
              "      <th></th>\n",
              "    </tr>\n",
              "  </thead>\n",
              "  <tbody>\n",
              "    <tr>\n",
              "      <th>BTM</th>\n",
              "      <td>1763</td>\n",
              "      <td>3293</td>\n",
              "    </tr>\n",
              "    <tr>\n",
              "      <th>Banashankari</th>\n",
              "      <td>397</td>\n",
              "      <td>505</td>\n",
              "    </tr>\n",
              "    <tr>\n",
              "      <th>Banaswadi</th>\n",
              "      <td>302</td>\n",
              "      <td>338</td>\n",
              "    </tr>\n",
              "    <tr>\n",
              "      <th>Bannerghatta Road</th>\n",
              "      <td>685</td>\n",
              "      <td>924</td>\n",
              "    </tr>\n",
              "    <tr>\n",
              "      <th>Basavanagudi</th>\n",
              "      <td>243</td>\n",
              "      <td>441</td>\n",
              "    </tr>\n",
              "    <tr>\n",
              "      <th>Bellandur</th>\n",
              "      <td>517</td>\n",
              "      <td>751</td>\n",
              "    </tr>\n",
              "    <tr>\n",
              "      <th>Brigade Road</th>\n",
              "      <td>552</td>\n",
              "      <td>658</td>\n",
              "    </tr>\n",
              "    <tr>\n",
              "      <th>Brookefield</th>\n",
              "      <td>239</td>\n",
              "      <td>417</td>\n",
              "    </tr>\n",
              "    <tr>\n",
              "      <th>Church Street</th>\n",
              "      <td>226</td>\n",
              "      <td>340</td>\n",
              "    </tr>\n",
              "    <tr>\n",
              "      <th>Commercial Street</th>\n",
              "      <td>228</td>\n",
              "      <td>142</td>\n",
              "    </tr>\n",
              "    <tr>\n",
              "      <th>Cunningham Road</th>\n",
              "      <td>168</td>\n",
              "      <td>322</td>\n",
              "    </tr>\n",
              "    <tr>\n",
              "      <th>Domlur</th>\n",
              "      <td>247</td>\n",
              "      <td>235</td>\n",
              "    </tr>\n",
              "    <tr>\n",
              "      <th>Ejipura</th>\n",
              "      <td>214</td>\n",
              "      <td>219</td>\n",
              "    </tr>\n",
              "    <tr>\n",
              "      <th>Electronic City</th>\n",
              "      <td>676</td>\n",
              "      <td>570</td>\n",
              "    </tr>\n",
              "    <tr>\n",
              "      <th>Frazer Town</th>\n",
              "      <td>287</td>\n",
              "      <td>427</td>\n",
              "    </tr>\n",
              "    <tr>\n",
              "      <th>HSR</th>\n",
              "      <td>584</td>\n",
              "      <td>1910</td>\n",
              "    </tr>\n",
              "    <tr>\n",
              "      <th>Indiranagar</th>\n",
              "      <td>697</td>\n",
              "      <td>1329</td>\n",
              "    </tr>\n",
              "    <tr>\n",
              "      <th>JP Nagar</th>\n",
              "      <td>911</td>\n",
              "      <td>1307</td>\n",
              "    </tr>\n",
              "    <tr>\n",
              "      <th>Jayanagar</th>\n",
              "      <td>552</td>\n",
              "      <td>1364</td>\n",
              "    </tr>\n",
              "    <tr>\n",
              "      <th>Kalyan Nagar</th>\n",
              "      <td>350</td>\n",
              "      <td>491</td>\n",
              "    </tr>\n",
              "    <tr>\n",
              "      <th>Kammanahalli</th>\n",
              "      <td>264</td>\n",
              "      <td>375</td>\n",
              "    </tr>\n",
              "    <tr>\n",
              "      <th>Koramangala 1st Block</th>\n",
              "      <td>384</td>\n",
              "      <td>852</td>\n",
              "    </tr>\n",
              "    <tr>\n",
              "      <th>Koramangala 4th Block</th>\n",
              "      <td>459</td>\n",
              "      <td>558</td>\n",
              "    </tr>\n",
              "    <tr>\n",
              "      <th>Koramangala 5th Block</th>\n",
              "      <td>866</td>\n",
              "      <td>1613</td>\n",
              "    </tr>\n",
              "    <tr>\n",
              "      <th>Koramangala 6th Block</th>\n",
              "      <td>445</td>\n",
              "      <td>682</td>\n",
              "    </tr>\n",
              "    <tr>\n",
              "      <th>Koramangala 7th Block</th>\n",
              "      <td>389</td>\n",
              "      <td>785</td>\n",
              "    </tr>\n",
              "    <tr>\n",
              "      <th>Lavelle Road</th>\n",
              "      <td>315</td>\n",
              "      <td>203</td>\n",
              "    </tr>\n",
              "    <tr>\n",
              "      <th>MG Road</th>\n",
              "      <td>520</td>\n",
              "      <td>373</td>\n",
              "    </tr>\n",
              "    <tr>\n",
              "      <th>Malleshwaram</th>\n",
              "      <td>309</td>\n",
              "      <td>412</td>\n",
              "    </tr>\n",
              "    <tr>\n",
              "      <th>Marathahalli</th>\n",
              "      <td>701</td>\n",
              "      <td>1104</td>\n",
              "    </tr>\n",
              "    <tr>\n",
              "      <th>New BEL Road</th>\n",
              "      <td>255</td>\n",
              "      <td>389</td>\n",
              "    </tr>\n",
              "    <tr>\n",
              "      <th>Old Airport Road</th>\n",
              "      <td>221</td>\n",
              "      <td>216</td>\n",
              "    </tr>\n",
              "    <tr>\n",
              "      <th>Rajajinagar</th>\n",
              "      <td>286</td>\n",
              "      <td>305</td>\n",
              "    </tr>\n",
              "    <tr>\n",
              "      <th>Residency Road</th>\n",
              "      <td>424</td>\n",
              "      <td>247</td>\n",
              "    </tr>\n",
              "    <tr>\n",
              "      <th>Richmond Road</th>\n",
              "      <td>557</td>\n",
              "      <td>246</td>\n",
              "    </tr>\n",
              "    <tr>\n",
              "      <th>Sarjapur Road</th>\n",
              "      <td>323</td>\n",
              "      <td>724</td>\n",
              "    </tr>\n",
              "    <tr>\n",
              "      <th>Shanti Nagar</th>\n",
              "      <td>289</td>\n",
              "      <td>219</td>\n",
              "    </tr>\n",
              "    <tr>\n",
              "      <th>Shivajinagar</th>\n",
              "      <td>354</td>\n",
              "      <td>144</td>\n",
              "    </tr>\n",
              "    <tr>\n",
              "      <th>St. Marks Road</th>\n",
              "      <td>176</td>\n",
              "      <td>167</td>\n",
              "    </tr>\n",
              "    <tr>\n",
              "      <th>Ulsoor</th>\n",
              "      <td>389</td>\n",
              "      <td>622</td>\n",
              "    </tr>\n",
              "    <tr>\n",
              "      <th>Whitefield</th>\n",
              "      <td>986</td>\n",
              "      <td>1119</td>\n",
              "    </tr>\n",
              "    <tr>\n",
              "      <th>others</th>\n",
              "      <td>2064</td>\n",
              "      <td>2890</td>\n",
              "    </tr>\n",
              "  </tbody>\n",
              "</table>\n",
              "</div>"
            ],
            "text/plain": [
              "                       name      \n",
              "online_order             No   Yes\n",
              "location                         \n",
              "BTM                    1763  3293\n",
              "Banashankari            397   505\n",
              "Banaswadi               302   338\n",
              "Bannerghatta Road       685   924\n",
              "Basavanagudi            243   441\n",
              "Bellandur               517   751\n",
              "Brigade Road            552   658\n",
              "Brookefield             239   417\n",
              "Church Street           226   340\n",
              "Commercial Street       228   142\n",
              "Cunningham Road         168   322\n",
              "Domlur                  247   235\n",
              "Ejipura                 214   219\n",
              "Electronic City         676   570\n",
              "Frazer Town             287   427\n",
              "HSR                     584  1910\n",
              "Indiranagar             697  1329\n",
              "JP Nagar                911  1307\n",
              "Jayanagar               552  1364\n",
              "Kalyan Nagar            350   491\n",
              "Kammanahalli            264   375\n",
              "Koramangala 1st Block   384   852\n",
              "Koramangala 4th Block   459   558\n",
              "Koramangala 5th Block   866  1613\n",
              "Koramangala 6th Block   445   682\n",
              "Koramangala 7th Block   389   785\n",
              "Lavelle Road            315   203\n",
              "MG Road                 520   373\n",
              "Malleshwaram            309   412\n",
              "Marathahalli            701  1104\n",
              "New BEL Road            255   389\n",
              "Old Airport Road        221   216\n",
              "Rajajinagar             286   305\n",
              "Residency Road          424   247\n",
              "Richmond Road           557   246\n",
              "Sarjapur Road           323   724\n",
              "Shanti Nagar            289   219\n",
              "Shivajinagar            354   144\n",
              "St. Marks Road          176   167\n",
              "Ulsoor                  389   622\n",
              "Whitefield              986  1119\n",
              "others                 2064  2890"
            ]
          },
          "execution_count": 32,
          "metadata": {},
          "output_type": "execute_result"
        }
      ],
      "source": [
        "df1 = df.groupby(['location','online_order'])['name'].count()\n",
        "df1.to_csv('location_online.csv')\n",
        "df1 = pd.read_csv('location_online.csv')\n",
        "df1 = pd.pivot_table(df1, values=None, index=['location'], columns=['online_order'], fill_value=0, aggfunc=np.sum)\n",
        "df1"
      ]
    },
    {
      "cell_type": "code",
      "execution_count": 33,
      "metadata": {
        "colab": {
          "base_uri": "https://localhost:8080/",
          "height": 0
        },
        "execution": {
          "iopub.execute_input": "2021-06-01T09:33:34.53676Z",
          "iopub.status.busy": "2021-06-01T09:33:34.536314Z",
          "iopub.status.idle": "2021-06-01T09:33:35.279875Z",
          "shell.execute_reply": "2021-06-01T09:33:35.278564Z",
          "shell.execute_reply.started": "2021-06-01T09:33:34.536729Z"
        },
        "id": "HeiedjZFOKKk",
        "outputId": "c28b41cf-07b6-438a-dd18-4e95d48fe795",
        "trusted": true
      },
      "outputs": [
        {
          "data": {
            "text/plain": [
              "<Axes: xlabel='location'>"
            ]
          },
          "execution_count": 33,
          "metadata": {},
          "output_type": "execute_result"
        },
        {
          "data": {
            "image/png": "[encoded data removed]",
            "text/plain": [
              "<Figure size 1500x800 with 1 Axes>"
            ]
          },
          "metadata": {},
          "output_type": "display_data"
        }
      ],
      "source": [
        "df1.plot(kind = 'bar', figsize = (15,8))"
      ]
    },
    {
      "cell_type": "markdown",
      "metadata": {
        "id": "tiW--JEzOKKk"
      },
      "source": [
        "## Visualizing Book Table Facility, Location Wise"
      ]
    },
    {
      "cell_type": "code",
      "execution_count": 34,
      "metadata": {
        "colab": {
          "base_uri": "https://localhost:8080/",
          "height": 1000
        },
        "execution": {
          "iopub.execute_input": "2021-06-01T09:33:35.281823Z",
          "iopub.status.busy": "2021-06-01T09:33:35.281449Z",
          "iopub.status.idle": "2021-06-01T09:33:35.336095Z",
          "shell.execute_reply": "2021-06-01T09:33:35.334911Z",
          "shell.execute_reply.started": "2021-06-01T09:33:35.281782Z"
        },
        "id": "D4oKxLNmOKKl",
        "outputId": "d8eb7644-d1a2-432d-a39e-6ae191b7b46c",
        "trusted": true
      },
      "outputs": [
        {
          "name": "stderr",
          "output_type": "stream",
          "text": [
            "C:\\Users\\ABDALRAHMAN\\AppData\\Local\\Temp\\ipykernel_1336\\814380054.py:4: FutureWarning: The provided callable <function sum at 0x000001B494DE1DA0> is currently using DataFrameGroupBy.sum. In a future version of pandas, the provided callable will be used directly. To keep current behavior pass the string \"sum\" instead.\n",
            "  df2 = pd.pivot_table(df2, values=None, index=['location'], columns=['book_table'], fill_value=0, aggfunc=np.sum)\n"
          ]
        },
        {
          "data": {
            "text/html": [
              "<div>\n",
              "<style scoped>\n",
              "    .dataframe tbody tr th:only-of-type {\n",
              "        vertical-align: middle;\n",
              "    }\n",
              "\n",
              "    .dataframe tbody tr th {\n",
              "        vertical-align: top;\n",
              "    }\n",
              "\n",
              "    .dataframe thead tr th {\n",
              "        text-align: left;\n",
              "    }\n",
              "\n",
              "    .dataframe thead tr:last-of-type th {\n",
              "        text-align: right;\n",
              "    }\n",
              "</style>\n",
              "<table border=\"1\" class=\"dataframe\">\n",
              "  <thead>\n",
              "    <tr>\n",
              "      <th></th>\n",
              "      <th colspan=\"2\" halign=\"left\">name</th>\n",
              "    </tr>\n",
              "    <tr>\n",
              "      <th>book_table</th>\n",
              "      <th>No</th>\n",
              "      <th>Yes</th>\n",
              "    </tr>\n",
              "    <tr>\n",
              "      <th>location</th>\n",
              "      <th></th>\n",
              "      <th></th>\n",
              "    </tr>\n",
              "  </thead>\n",
              "  <tbody>\n",
              "    <tr>\n",
              "      <th>BTM</th>\n",
              "      <td>4889</td>\n",
              "      <td>167</td>\n",
              "    </tr>\n",
              "    <tr>\n",
              "      <th>Banashankari</th>\n",
              "      <td>839</td>\n",
              "      <td>63</td>\n",
              "    </tr>\n",
              "    <tr>\n",
              "      <th>Banaswadi</th>\n",
              "      <td>632</td>\n",
              "      <td>8</td>\n",
              "    </tr>\n",
              "    <tr>\n",
              "      <th>Bannerghatta Road</th>\n",
              "      <td>1510</td>\n",
              "      <td>99</td>\n",
              "    </tr>\n",
              "    <tr>\n",
              "      <th>Basavanagudi</th>\n",
              "      <td>668</td>\n",
              "      <td>16</td>\n",
              "    </tr>\n",
              "    <tr>\n",
              "      <th>Bellandur</th>\n",
              "      <td>1170</td>\n",
              "      <td>98</td>\n",
              "    </tr>\n",
              "    <tr>\n",
              "      <th>Brigade Road</th>\n",
              "      <td>1034</td>\n",
              "      <td>176</td>\n",
              "    </tr>\n",
              "    <tr>\n",
              "      <th>Brookefield</th>\n",
              "      <td>582</td>\n",
              "      <td>74</td>\n",
              "    </tr>\n",
              "    <tr>\n",
              "      <th>Church Street</th>\n",
              "      <td>385</td>\n",
              "      <td>181</td>\n",
              "    </tr>\n",
              "    <tr>\n",
              "      <th>Commercial Street</th>\n",
              "      <td>370</td>\n",
              "      <td>0</td>\n",
              "    </tr>\n",
              "    <tr>\n",
              "      <th>Cunningham Road</th>\n",
              "      <td>315</td>\n",
              "      <td>175</td>\n",
              "    </tr>\n",
              "    <tr>\n",
              "      <th>Domlur</th>\n",
              "      <td>427</td>\n",
              "      <td>55</td>\n",
              "    </tr>\n",
              "    <tr>\n",
              "      <th>Ejipura</th>\n",
              "      <td>433</td>\n",
              "      <td>0</td>\n",
              "    </tr>\n",
              "    <tr>\n",
              "      <th>Electronic City</th>\n",
              "      <td>1148</td>\n",
              "      <td>98</td>\n",
              "    </tr>\n",
              "    <tr>\n",
              "      <th>Frazer Town</th>\n",
              "      <td>706</td>\n",
              "      <td>8</td>\n",
              "    </tr>\n",
              "    <tr>\n",
              "      <th>HSR</th>\n",
              "      <td>2277</td>\n",
              "      <td>217</td>\n",
              "    </tr>\n",
              "    <tr>\n",
              "      <th>Indiranagar</th>\n",
              "      <td>1578</td>\n",
              "      <td>448</td>\n",
              "    </tr>\n",
              "    <tr>\n",
              "      <th>JP Nagar</th>\n",
              "      <td>1903</td>\n",
              "      <td>315</td>\n",
              "    </tr>\n",
              "    <tr>\n",
              "      <th>Jayanagar</th>\n",
              "      <td>1637</td>\n",
              "      <td>279</td>\n",
              "    </tr>\n",
              "    <tr>\n",
              "      <th>Kalyan Nagar</th>\n",
              "      <td>692</td>\n",
              "      <td>149</td>\n",
              "    </tr>\n",
              "    <tr>\n",
              "      <th>Kammanahalli</th>\n",
              "      <td>590</td>\n",
              "      <td>49</td>\n",
              "    </tr>\n",
              "    <tr>\n",
              "      <th>Koramangala 1st Block</th>\n",
              "      <td>1186</td>\n",
              "      <td>50</td>\n",
              "    </tr>\n",
              "    <tr>\n",
              "      <th>Koramangala 4th Block</th>\n",
              "      <td>695</td>\n",
              "      <td>322</td>\n",
              "    </tr>\n",
              "    <tr>\n",
              "      <th>Koramangala 5th Block</th>\n",
              "      <td>1787</td>\n",
              "      <td>692</td>\n",
              "    </tr>\n",
              "    <tr>\n",
              "      <th>Koramangala 6th Block</th>\n",
              "      <td>1015</td>\n",
              "      <td>112</td>\n",
              "    </tr>\n",
              "    <tr>\n",
              "      <th>Koramangala 7th Block</th>\n",
              "      <td>1012</td>\n",
              "      <td>162</td>\n",
              "    </tr>\n",
              "    <tr>\n",
              "      <th>Lavelle Road</th>\n",
              "      <td>290</td>\n",
              "      <td>228</td>\n",
              "    </tr>\n",
              "    <tr>\n",
              "      <th>MG Road</th>\n",
              "      <td>546</td>\n",
              "      <td>347</td>\n",
              "    </tr>\n",
              "    <tr>\n",
              "      <th>Malleshwaram</th>\n",
              "      <td>632</td>\n",
              "      <td>89</td>\n",
              "    </tr>\n",
              "    <tr>\n",
              "      <th>Marathahalli</th>\n",
              "      <td>1642</td>\n",
              "      <td>163</td>\n",
              "    </tr>\n",
              "    <tr>\n",
              "      <th>New BEL Road</th>\n",
              "      <td>588</td>\n",
              "      <td>56</td>\n",
              "    </tr>\n",
              "    <tr>\n",
              "      <th>Old Airport Road</th>\n",
              "      <td>378</td>\n",
              "      <td>59</td>\n",
              "    </tr>\n",
              "    <tr>\n",
              "      <th>Rajajinagar</th>\n",
              "      <td>550</td>\n",
              "      <td>41</td>\n",
              "    </tr>\n",
              "    <tr>\n",
              "      <th>Residency Road</th>\n",
              "      <td>522</td>\n",
              "      <td>149</td>\n",
              "    </tr>\n",
              "    <tr>\n",
              "      <th>Richmond Road</th>\n",
              "      <td>687</td>\n",
              "      <td>116</td>\n",
              "    </tr>\n",
              "    <tr>\n",
              "      <th>Sarjapur Road</th>\n",
              "      <td>893</td>\n",
              "      <td>154</td>\n",
              "    </tr>\n",
              "    <tr>\n",
              "      <th>Shanti Nagar</th>\n",
              "      <td>451</td>\n",
              "      <td>57</td>\n",
              "    </tr>\n",
              "    <tr>\n",
              "      <th>Shivajinagar</th>\n",
              "      <td>475</td>\n",
              "      <td>23</td>\n",
              "    </tr>\n",
              "    <tr>\n",
              "      <th>St. Marks Road</th>\n",
              "      <td>219</td>\n",
              "      <td>124</td>\n",
              "    </tr>\n",
              "    <tr>\n",
              "      <th>Ulsoor</th>\n",
              "      <td>834</td>\n",
              "      <td>177</td>\n",
              "    </tr>\n",
              "    <tr>\n",
              "      <th>Whitefield</th>\n",
              "      <td>1852</td>\n",
              "      <td>253</td>\n",
              "    </tr>\n",
              "    <tr>\n",
              "      <th>others</th>\n",
              "      <td>4587</td>\n",
              "      <td>367</td>\n",
              "    </tr>\n",
              "  </tbody>\n",
              "</table>\n",
              "</div>"
            ],
            "text/plain": [
              "                       name     \n",
              "book_table               No  Yes\n",
              "location                        \n",
              "BTM                    4889  167\n",
              "Banashankari            839   63\n",
              "Banaswadi               632    8\n",
              "Bannerghatta Road      1510   99\n",
              "Basavanagudi            668   16\n",
              "Bellandur              1170   98\n",
              "Brigade Road           1034  176\n",
              "Brookefield             582   74\n",
              "Church Street           385  181\n",
              "Commercial Street       370    0\n",
              "Cunningham Road         315  175\n",
              "Domlur                  427   55\n",
              "Ejipura                 433    0\n",
              "Electronic City        1148   98\n",
              "Frazer Town             706    8\n",
              "HSR                    2277  217\n",
              "Indiranagar            1578  448\n",
              "JP Nagar               1903  315\n",
              "Jayanagar              1637  279\n",
              "Kalyan Nagar            692  149\n",
              "Kammanahalli            590   49\n",
              "Koramangala 1st Block  1186   50\n",
              "Koramangala 4th Block   695  322\n",
              "Koramangala 5th Block  1787  692\n",
              "Koramangala 6th Block  1015  112\n",
              "Koramangala 7th Block  1012  162\n",
              "Lavelle Road            290  228\n",
              "MG Road                 546  347\n",
              "Malleshwaram            632   89\n",
              "Marathahalli           1642  163\n",
              "New BEL Road            588   56\n",
              "Old Airport Road        378   59\n",
              "Rajajinagar             550   41\n",
              "Residency Road          522  149\n",
              "Richmond Road           687  116\n",
              "Sarjapur Road           893  154\n",
              "Shanti Nagar            451   57\n",
              "Shivajinagar            475   23\n",
              "St. Marks Road          219  124\n",
              "Ulsoor                  834  177\n",
              "Whitefield             1852  253\n",
              "others                 4587  367"
            ]
          },
          "execution_count": 34,
          "metadata": {},
          "output_type": "execute_result"
        }
      ],
      "source": [
        "df2 = df.groupby(['location','book_table'])['name'].count()\n",
        "df2.to_csv('location_booktable.csv')\n",
        "df2 = pd.read_csv('location_booktable.csv')\n",
        "df2 = pd.pivot_table(df2, values=None, index=['location'], columns=['book_table'], fill_value=0, aggfunc=np.sum)\n",
        "df2"
      ]
    },
    {
      "cell_type": "code",
      "execution_count": 35,
      "metadata": {
        "colab": {
          "base_uri": "https://localhost:8080/",
          "height": 861
        },
        "execution": {
          "iopub.execute_input": "2021-06-01T09:33:35.337491Z",
          "iopub.status.busy": "2021-06-01T09:33:35.337184Z",
          "iopub.status.idle": "2021-06-01T09:33:36.134764Z",
          "shell.execute_reply": "2021-06-01T09:33:36.133502Z",
          "shell.execute_reply.started": "2021-06-01T09:33:35.337462Z"
        },
        "id": "OlBwEEsxOKKl",
        "outputId": "51e430cf-6ac2-486f-f73b-f9632f37eb32",
        "trusted": true
      },
      "outputs": [
        {
          "data": {
            "text/plain": [
              "<Axes: xlabel='location'>"
            ]
          },
          "execution_count": 35,
          "metadata": {},
          "output_type": "execute_result"
        },
        {
          "data": {
            "image/png": "[encoded data removed]",
            "text/plain": [
              "<Figure size 1500x800 with 1 Axes>"
            ]
          },
          "metadata": {},
          "output_type": "display_data"
        }
      ],
      "source": [
        "df2.plot(kind = 'bar', figsize = (15,8))"
      ]
    },
    {
      "cell_type": "markdown",
      "metadata": {
        "id": "7OrmgeBIOKKl"
      },
      "source": [
        "## Visualizing Types of Restaurents vs Rate"
      ]
    },
    {
      "cell_type": "code",
      "execution_count": 36,
      "metadata": {
        "colab": {
          "base_uri": "https://localhost:8080/",
          "height": 807
        },
        "execution": {
          "iopub.execute_input": "2021-06-01T09:33:36.136995Z",
          "iopub.status.busy": "2021-06-01T09:33:36.136438Z",
          "iopub.status.idle": "2021-06-01T09:33:36.463095Z",
          "shell.execute_reply": "2021-06-01T09:33:36.462049Z",
          "shell.execute_reply.started": "2021-06-01T09:33:36.136948Z"
        },
        "id": "AT3uZIsgOKKm",
        "outputId": "d3d3a315-aaab-4f64-9939-2baefb29557d",
        "trusted": true
      },
      "outputs": [
        {
          "name": "stderr",
          "output_type": "stream",
          "text": [
            "C:\\Users\\ABDALRAHMAN\\AppData\\Local\\Temp\\ipykernel_1336\\2234948669.py:2: FutureWarning: \n",
            "\n",
            "Passing `palette` without assigning `hue` is deprecated and will be removed in v0.14.0. Assign the `x` variable to `hue` and set `legend=False` for the same effect.\n",
            "\n",
            "  sns.boxplot(x = 'Type', y = 'rate', data = df, palette = 'inferno')\n"
          ]
        },
        {
          "data": {
            "text/plain": [
              "<Axes: xlabel='Type', ylabel='rate'>"
            ]
          },
          "execution_count": 36,
          "metadata": {},
          "output_type": "execute_result"
        },
        {
          "data": {
            "image/png": "[encoded data removed]",
            "text/plain": [
              "<Figure size 1400x800 with 1 Axes>"
            ]
          },
          "metadata": {},
          "output_type": "display_data"
        }
      ],
      "source": [
        "plt.figure(figsize = (14, 8))\n",
        "sns.boxplot(x = 'Type', y = 'rate', data = df, palette = 'inferno')"
      ]
    },
    {
      "cell_type": "markdown",
      "metadata": {
        "id": "LP7GjOHUOKKn"
      },
      "source": [
        "## Grouping Types of Restaurents, location wise"
      ]
    },
    {
      "cell_type": "code",
      "execution_count": 37,
      "metadata": {
        "colab": {
          "base_uri": "https://localhost:8080/",
          "height": 1000
        },
        "execution": {
          "iopub.execute_input": "2021-06-01T09:33:36.465522Z",
          "iopub.status.busy": "2021-06-01T09:33:36.464778Z",
          "iopub.status.idle": "2021-06-01T09:33:36.53379Z",
          "shell.execute_reply": "2021-06-01T09:33:36.532953Z",
          "shell.execute_reply.started": "2021-06-01T09:33:36.465464Z"
        },
        "id": "jiPqYC7NOKKn",
        "outputId": "a237f38b-c4ae-42b5-a2d4-9000fcc4c4ab",
        "trusted": true
      },
      "outputs": [
        {
          "name": "stderr",
          "output_type": "stream",
          "text": [
            "C:\\Users\\ABDALRAHMAN\\AppData\\Local\\Temp\\ipykernel_1336\\1140243432.py:4: FutureWarning: The provided callable <function sum at 0x000001B494DE1DA0> is currently using DataFrameGroupBy.sum. In a future version of pandas, the provided callable will be used directly. To keep current behavior pass the string \"sum\" instead.\n",
            "  df3 = pd.pivot_table(df3, values=None, index=['location'], columns=['Type'], fill_value=0, aggfunc=np.sum)\n"
          ]
        },
        {
          "data": {
            "text/html": [
              "<div>\n",
              "<style scoped>\n",
              "    .dataframe tbody tr th:only-of-type {\n",
              "        vertical-align: middle;\n",
              "    }\n",
              "\n",
              "    .dataframe tbody tr th {\n",
              "        vertical-align: top;\n",
              "    }\n",
              "\n",
              "    .dataframe thead tr th {\n",
              "        text-align: left;\n",
              "    }\n",
              "\n",
              "    .dataframe thead tr:last-of-type th {\n",
              "        text-align: right;\n",
              "    }\n",
              "</style>\n",
              "<table border=\"1\" class=\"dataframe\">\n",
              "  <thead>\n",
              "    <tr>\n",
              "      <th></th>\n",
              "      <th colspan=\"7\" halign=\"left\">name</th>\n",
              "    </tr>\n",
              "    <tr>\n",
              "      <th>Type</th>\n",
              "      <th>Buffet</th>\n",
              "      <th>Cafes</th>\n",
              "      <th>Delivery</th>\n",
              "      <th>Desserts</th>\n",
              "      <th>Dine-out</th>\n",
              "      <th>Drinks &amp; nightlife</th>\n",
              "      <th>Pubs and bars</th>\n",
              "    </tr>\n",
              "    <tr>\n",
              "      <th>location</th>\n",
              "      <th></th>\n",
              "      <th></th>\n",
              "      <th></th>\n",
              "      <th></th>\n",
              "      <th></th>\n",
              "      <th></th>\n",
              "      <th></th>\n",
              "    </tr>\n",
              "  </thead>\n",
              "  <tbody>\n",
              "    <tr>\n",
              "      <th>BTM</th>\n",
              "      <td>21</td>\n",
              "      <td>83</td>\n",
              "      <td>3053</td>\n",
              "      <td>198</td>\n",
              "      <td>1660</td>\n",
              "      <td>22</td>\n",
              "      <td>19</td>\n",
              "    </tr>\n",
              "    <tr>\n",
              "      <th>Banashankari</th>\n",
              "      <td>7</td>\n",
              "      <td>36</td>\n",
              "      <td>418</td>\n",
              "      <td>71</td>\n",
              "      <td>356</td>\n",
              "      <td>14</td>\n",
              "      <td>0</td>\n",
              "    </tr>\n",
              "    <tr>\n",
              "      <th>Banaswadi</th>\n",
              "      <td>0</td>\n",
              "      <td>24</td>\n",
              "      <td>310</td>\n",
              "      <td>37</td>\n",
              "      <td>262</td>\n",
              "      <td>6</td>\n",
              "      <td>1</td>\n",
              "    </tr>\n",
              "    <tr>\n",
              "      <th>Bannerghatta Road</th>\n",
              "      <td>9</td>\n",
              "      <td>46</td>\n",
              "      <td>828</td>\n",
              "      <td>137</td>\n",
              "      <td>578</td>\n",
              "      <td>9</td>\n",
              "      <td>2</td>\n",
              "    </tr>\n",
              "    <tr>\n",
              "      <th>Basavanagudi</th>\n",
              "      <td>7</td>\n",
              "      <td>11</td>\n",
              "      <td>344</td>\n",
              "      <td>66</td>\n",
              "      <td>251</td>\n",
              "      <td>5</td>\n",
              "      <td>0</td>\n",
              "    </tr>\n",
              "    <tr>\n",
              "      <th>Bellandur</th>\n",
              "      <td>28</td>\n",
              "      <td>36</td>\n",
              "      <td>617</td>\n",
              "      <td>75</td>\n",
              "      <td>479</td>\n",
              "      <td>17</td>\n",
              "      <td>16</td>\n",
              "    </tr>\n",
              "    <tr>\n",
              "      <th>Brigade Road</th>\n",
              "      <td>25</td>\n",
              "      <td>46</td>\n",
              "      <td>497</td>\n",
              "      <td>108</td>\n",
              "      <td>455</td>\n",
              "      <td>57</td>\n",
              "      <td>22</td>\n",
              "    </tr>\n",
              "    <tr>\n",
              "      <th>Brookefield</th>\n",
              "      <td>6</td>\n",
              "      <td>17</td>\n",
              "      <td>339</td>\n",
              "      <td>45</td>\n",
              "      <td>245</td>\n",
              "      <td>4</td>\n",
              "      <td>0</td>\n",
              "    </tr>\n",
              "    <tr>\n",
              "      <th>Church Street</th>\n",
              "      <td>19</td>\n",
              "      <td>51</td>\n",
              "      <td>193</td>\n",
              "      <td>29</td>\n",
              "      <td>215</td>\n",
              "      <td>36</td>\n",
              "      <td>23</td>\n",
              "    </tr>\n",
              "    <tr>\n",
              "      <th>Commercial Street</th>\n",
              "      <td>0</td>\n",
              "      <td>13</td>\n",
              "      <td>121</td>\n",
              "      <td>77</td>\n",
              "      <td>159</td>\n",
              "      <td>0</td>\n",
              "      <td>0</td>\n",
              "    </tr>\n",
              "    <tr>\n",
              "      <th>Cunningham Road</th>\n",
              "      <td>29</td>\n",
              "      <td>34</td>\n",
              "      <td>194</td>\n",
              "      <td>26</td>\n",
              "      <td>184</td>\n",
              "      <td>16</td>\n",
              "      <td>7</td>\n",
              "    </tr>\n",
              "    <tr>\n",
              "      <th>Domlur</th>\n",
              "      <td>15</td>\n",
              "      <td>13</td>\n",
              "      <td>261</td>\n",
              "      <td>35</td>\n",
              "      <td>135</td>\n",
              "      <td>12</td>\n",
              "      <td>11</td>\n",
              "    </tr>\n",
              "    <tr>\n",
              "      <th>Ejipura</th>\n",
              "      <td>0</td>\n",
              "      <td>0</td>\n",
              "      <td>245</td>\n",
              "      <td>16</td>\n",
              "      <td>172</td>\n",
              "      <td>0</td>\n",
              "      <td>0</td>\n",
              "    </tr>\n",
              "    <tr>\n",
              "      <th>Electronic City</th>\n",
              "      <td>23</td>\n",
              "      <td>24</td>\n",
              "      <td>570</td>\n",
              "      <td>71</td>\n",
              "      <td>516</td>\n",
              "      <td>21</td>\n",
              "      <td>21</td>\n",
              "    </tr>\n",
              "    <tr>\n",
              "      <th>Frazer Town</th>\n",
              "      <td>1</td>\n",
              "      <td>11</td>\n",
              "      <td>470</td>\n",
              "      <td>56</td>\n",
              "      <td>172</td>\n",
              "      <td>2</td>\n",
              "      <td>2</td>\n",
              "    </tr>\n",
              "    <tr>\n",
              "      <th>HSR</th>\n",
              "      <td>19</td>\n",
              "      <td>49</td>\n",
              "      <td>1694</td>\n",
              "      <td>120</td>\n",
              "      <td>580</td>\n",
              "      <td>14</td>\n",
              "      <td>18</td>\n",
              "    </tr>\n",
              "    <tr>\n",
              "      <th>Indiranagar</th>\n",
              "      <td>38</td>\n",
              "      <td>97</td>\n",
              "      <td>1091</td>\n",
              "      <td>140</td>\n",
              "      <td>529</td>\n",
              "      <td>65</td>\n",
              "      <td>66</td>\n",
              "    </tr>\n",
              "    <tr>\n",
              "      <th>JP Nagar</th>\n",
              "      <td>45</td>\n",
              "      <td>76</td>\n",
              "      <td>1151</td>\n",
              "      <td>166</td>\n",
              "      <td>722</td>\n",
              "      <td>51</td>\n",
              "      <td>7</td>\n",
              "    </tr>\n",
              "    <tr>\n",
              "      <th>Jayanagar</th>\n",
              "      <td>27</td>\n",
              "      <td>77</td>\n",
              "      <td>1043</td>\n",
              "      <td>182</td>\n",
              "      <td>575</td>\n",
              "      <td>12</td>\n",
              "      <td>0</td>\n",
              "    </tr>\n",
              "    <tr>\n",
              "      <th>Kalyan Nagar</th>\n",
              "      <td>9</td>\n",
              "      <td>45</td>\n",
              "      <td>366</td>\n",
              "      <td>88</td>\n",
              "      <td>315</td>\n",
              "      <td>18</td>\n",
              "      <td>0</td>\n",
              "    </tr>\n",
              "    <tr>\n",
              "      <th>Kammanahalli</th>\n",
              "      <td>2</td>\n",
              "      <td>27</td>\n",
              "      <td>329</td>\n",
              "      <td>35</td>\n",
              "      <td>240</td>\n",
              "      <td>6</td>\n",
              "      <td>0</td>\n",
              "    </tr>\n",
              "    <tr>\n",
              "      <th>Koramangala 1st Block</th>\n",
              "      <td>3</td>\n",
              "      <td>26</td>\n",
              "      <td>716</td>\n",
              "      <td>70</td>\n",
              "      <td>398</td>\n",
              "      <td>7</td>\n",
              "      <td>16</td>\n",
              "    </tr>\n",
              "    <tr>\n",
              "      <th>Koramangala 4th Block</th>\n",
              "      <td>21</td>\n",
              "      <td>53</td>\n",
              "      <td>464</td>\n",
              "      <td>81</td>\n",
              "      <td>302</td>\n",
              "      <td>62</td>\n",
              "      <td>34</td>\n",
              "    </tr>\n",
              "    <tr>\n",
              "      <th>Koramangala 5th Block</th>\n",
              "      <td>65</td>\n",
              "      <td>146</td>\n",
              "      <td>1075</td>\n",
              "      <td>209</td>\n",
              "      <td>842</td>\n",
              "      <td>84</td>\n",
              "      <td>58</td>\n",
              "    </tr>\n",
              "    <tr>\n",
              "      <th>Koramangala 6th Block</th>\n",
              "      <td>18</td>\n",
              "      <td>43</td>\n",
              "      <td>511</td>\n",
              "      <td>70</td>\n",
              "      <td>411</td>\n",
              "      <td>51</td>\n",
              "      <td>23</td>\n",
              "    </tr>\n",
              "    <tr>\n",
              "      <th>Koramangala 7th Block</th>\n",
              "      <td>25</td>\n",
              "      <td>52</td>\n",
              "      <td>503</td>\n",
              "      <td>127</td>\n",
              "      <td>417</td>\n",
              "      <td>25</td>\n",
              "      <td>25</td>\n",
              "    </tr>\n",
              "    <tr>\n",
              "      <th>Lavelle Road</th>\n",
              "      <td>30</td>\n",
              "      <td>27</td>\n",
              "      <td>127</td>\n",
              "      <td>50</td>\n",
              "      <td>191</td>\n",
              "      <td>59</td>\n",
              "      <td>34</td>\n",
              "    </tr>\n",
              "    <tr>\n",
              "      <th>MG Road</th>\n",
              "      <td>51</td>\n",
              "      <td>76</td>\n",
              "      <td>266</td>\n",
              "      <td>68</td>\n",
              "      <td>343</td>\n",
              "      <td>53</td>\n",
              "      <td>36</td>\n",
              "    </tr>\n",
              "    <tr>\n",
              "      <th>Malleshwaram</th>\n",
              "      <td>11</td>\n",
              "      <td>31</td>\n",
              "      <td>269</td>\n",
              "      <td>85</td>\n",
              "      <td>291</td>\n",
              "      <td>20</td>\n",
              "      <td>14</td>\n",
              "    </tr>\n",
              "    <tr>\n",
              "      <th>Marathahalli</th>\n",
              "      <td>34</td>\n",
              "      <td>32</td>\n",
              "      <td>980</td>\n",
              "      <td>105</td>\n",
              "      <td>630</td>\n",
              "      <td>22</td>\n",
              "      <td>2</td>\n",
              "    </tr>\n",
              "    <tr>\n",
              "      <th>New BEL Road</th>\n",
              "      <td>4</td>\n",
              "      <td>29</td>\n",
              "      <td>338</td>\n",
              "      <td>33</td>\n",
              "      <td>224</td>\n",
              "      <td>8</td>\n",
              "      <td>8</td>\n",
              "    </tr>\n",
              "    <tr>\n",
              "      <th>Old Airport Road</th>\n",
              "      <td>12</td>\n",
              "      <td>5</td>\n",
              "      <td>200</td>\n",
              "      <td>35</td>\n",
              "      <td>164</td>\n",
              "      <td>12</td>\n",
              "      <td>9</td>\n",
              "    </tr>\n",
              "    <tr>\n",
              "      <th>Rajajinagar</th>\n",
              "      <td>10</td>\n",
              "      <td>4</td>\n",
              "      <td>258</td>\n",
              "      <td>55</td>\n",
              "      <td>251</td>\n",
              "      <td>3</td>\n",
              "      <td>10</td>\n",
              "    </tr>\n",
              "    <tr>\n",
              "      <th>Residency Road</th>\n",
              "      <td>20</td>\n",
              "      <td>31</td>\n",
              "      <td>187</td>\n",
              "      <td>63</td>\n",
              "      <td>289</td>\n",
              "      <td>55</td>\n",
              "      <td>26</td>\n",
              "    </tr>\n",
              "    <tr>\n",
              "      <th>Richmond Road</th>\n",
              "      <td>63</td>\n",
              "      <td>21</td>\n",
              "      <td>257</td>\n",
              "      <td>78</td>\n",
              "      <td>356</td>\n",
              "      <td>16</td>\n",
              "      <td>12</td>\n",
              "    </tr>\n",
              "    <tr>\n",
              "      <th>Sarjapur Road</th>\n",
              "      <td>25</td>\n",
              "      <td>22</td>\n",
              "      <td>558</td>\n",
              "      <td>82</td>\n",
              "      <td>319</td>\n",
              "      <td>19</td>\n",
              "      <td>22</td>\n",
              "    </tr>\n",
              "    <tr>\n",
              "      <th>Shanti Nagar</th>\n",
              "      <td>9</td>\n",
              "      <td>22</td>\n",
              "      <td>198</td>\n",
              "      <td>39</td>\n",
              "      <td>229</td>\n",
              "      <td>9</td>\n",
              "      <td>2</td>\n",
              "    </tr>\n",
              "    <tr>\n",
              "      <th>Shivajinagar</th>\n",
              "      <td>6</td>\n",
              "      <td>17</td>\n",
              "      <td>143</td>\n",
              "      <td>37</td>\n",
              "      <td>280</td>\n",
              "      <td>7</td>\n",
              "      <td>8</td>\n",
              "    </tr>\n",
              "    <tr>\n",
              "      <th>St. Marks Road</th>\n",
              "      <td>5</td>\n",
              "      <td>10</td>\n",
              "      <td>111</td>\n",
              "      <td>10</td>\n",
              "      <td>145</td>\n",
              "      <td>40</td>\n",
              "      <td>22</td>\n",
              "    </tr>\n",
              "    <tr>\n",
              "      <th>Ulsoor</th>\n",
              "      <td>16</td>\n",
              "      <td>56</td>\n",
              "      <td>456</td>\n",
              "      <td>71</td>\n",
              "      <td>359</td>\n",
              "      <td>23</td>\n",
              "      <td>30</td>\n",
              "    </tr>\n",
              "    <tr>\n",
              "      <th>Whitefield</th>\n",
              "      <td>28</td>\n",
              "      <td>51</td>\n",
              "      <td>1041</td>\n",
              "      <td>137</td>\n",
              "      <td>768</td>\n",
              "      <td>47</td>\n",
              "      <td>33</td>\n",
              "    </tr>\n",
              "    <tr>\n",
              "      <th>others</th>\n",
              "      <td>83</td>\n",
              "      <td>133</td>\n",
              "      <td>2787</td>\n",
              "      <td>276</td>\n",
              "      <td>1553</td>\n",
              "      <td>75</td>\n",
              "      <td>47</td>\n",
              "    </tr>\n",
              "  </tbody>\n",
              "</table>\n",
              "</div>"
            ],
            "text/plain": [
              "                        name                                   \\\n",
              "Type                  Buffet Cafes Delivery Desserts Dine-out   \n",
              "location                                                        \n",
              "BTM                       21    83     3053      198     1660   \n",
              "Banashankari               7    36      418       71      356   \n",
              "Banaswadi                  0    24      310       37      262   \n",
              "Bannerghatta Road          9    46      828      137      578   \n",
              "Basavanagudi               7    11      344       66      251   \n",
              "Bellandur                 28    36      617       75      479   \n",
              "Brigade Road              25    46      497      108      455   \n",
              "Brookefield                6    17      339       45      245   \n",
              "Church Street             19    51      193       29      215   \n",
              "Commercial Street          0    13      121       77      159   \n",
              "Cunningham Road           29    34      194       26      184   \n",
              "Domlur                    15    13      261       35      135   \n",
              "Ejipura                    0     0      245       16      172   \n",
              "Electronic City           23    24      570       71      516   \n",
              "Frazer Town                1    11      470       56      172   \n",
              "HSR                       19    49     1694      120      580   \n",
              "Indiranagar               38    97     1091      140      529   \n",
              "JP Nagar                  45    76     1151      166      722   \n",
              "Jayanagar                 27    77     1043      182      575   \n",
              "Kalyan Nagar               9    45      366       88      315   \n",
              "Kammanahalli               2    27      329       35      240   \n",
              "Koramangala 1st Block      3    26      716       70      398   \n",
              "Koramangala 4th Block     21    53      464       81      302   \n",
              "Koramangala 5th Block     65   146     1075      209      842   \n",
              "Koramangala 6th Block     18    43      511       70      411   \n",
              "Koramangala 7th Block     25    52      503      127      417   \n",
              "Lavelle Road              30    27      127       50      191   \n",
              "MG Road                   51    76      266       68      343   \n",
              "Malleshwaram              11    31      269       85      291   \n",
              "Marathahalli              34    32      980      105      630   \n",
              "New BEL Road               4    29      338       33      224   \n",
              "Old Airport Road          12     5      200       35      164   \n",
              "Rajajinagar               10     4      258       55      251   \n",
              "Residency Road            20    31      187       63      289   \n",
              "Richmond Road             63    21      257       78      356   \n",
              "Sarjapur Road             25    22      558       82      319   \n",
              "Shanti Nagar               9    22      198       39      229   \n",
              "Shivajinagar               6    17      143       37      280   \n",
              "St. Marks Road             5    10      111       10      145   \n",
              "Ulsoor                    16    56      456       71      359   \n",
              "Whitefield                28    51     1041      137      768   \n",
              "others                    83   133     2787      276     1553   \n",
              "\n",
              "                                                        \n",
              "Type                  Drinks & nightlife Pubs and bars  \n",
              "location                                                \n",
              "BTM                                   22            19  \n",
              "Banashankari                          14             0  \n",
              "Banaswadi                              6             1  \n",
              "Bannerghatta Road                      9             2  \n",
              "Basavanagudi                           5             0  \n",
              "Bellandur                             17            16  \n",
              "Brigade Road                          57            22  \n",
              "Brookefield                            4             0  \n",
              "Church Street                         36            23  \n",
              "Commercial Street                      0             0  \n",
              "Cunningham Road                       16             7  \n",
              "Domlur                                12            11  \n",
              "Ejipura                                0             0  \n",
              "Electronic City                       21            21  \n",
              "Frazer Town                            2             2  \n",
              "HSR                                   14            18  \n",
              "Indiranagar                           65            66  \n",
              "JP Nagar                              51             7  \n",
              "Jayanagar                             12             0  \n",
              "Kalyan Nagar                          18             0  \n",
              "Kammanahalli                           6             0  \n",
              "Koramangala 1st Block                  7            16  \n",
              "Koramangala 4th Block                 62            34  \n",
              "Koramangala 5th Block                 84            58  \n",
              "Koramangala 6th Block                 51            23  \n",
              "Koramangala 7th Block                 25            25  \n",
              "Lavelle Road                          59            34  \n",
              "MG Road                               53            36  \n",
              "Malleshwaram                          20            14  \n",
              "Marathahalli                          22             2  \n",
              "New BEL Road                           8             8  \n",
              "Old Airport Road                      12             9  \n",
              "Rajajinagar                            3            10  \n",
              "Residency Road                        55            26  \n",
              "Richmond Road                         16            12  \n",
              "Sarjapur Road                         19            22  \n",
              "Shanti Nagar                           9             2  \n",
              "Shivajinagar                           7             8  \n",
              "St. Marks Road                        40            22  \n",
              "Ulsoor                                23            30  \n",
              "Whitefield                            47            33  \n",
              "others                                75            47  "
            ]
          },
          "execution_count": 37,
          "metadata": {},
          "output_type": "execute_result"
        }
      ],
      "source": [
        "df3 = df.groupby(['location','Type'])['name'].count()\n",
        "df3.to_csv('location_Type.csv')\n",
        "df3 = pd.read_csv('location_Type.csv')\n",
        "df3 = pd.pivot_table(df3, values=None, index=['location'], columns=['Type'], fill_value=0, aggfunc=np.sum)\n",
        "df3"
      ]
    },
    {
      "cell_type": "code",
      "execution_count": 38,
      "metadata": {
        "colab": {
          "base_uri": "https://localhost:8080/",
          "height": 439
        },
        "execution": {
          "iopub.execute_input": "2021-06-01T09:33:36.535465Z",
          "iopub.status.busy": "2021-06-01T09:33:36.534999Z",
          "iopub.status.idle": "2021-06-01T09:33:38.074297Z",
          "shell.execute_reply": "2021-06-01T09:33:38.07279Z",
          "shell.execute_reply.started": "2021-06-01T09:33:36.53541Z"
        },
        "id": "4oTljJKIOKKn",
        "outputId": "6d09569a-4764-4a6d-ad3f-71274d803e66",
        "trusted": true
      },
      "outputs": [
        {
          "data": {
            "text/plain": [
              "<Axes: xlabel='location'>"
            ]
          },
          "execution_count": 38,
          "metadata": {},
          "output_type": "execute_result"
        },
        {
          "data": {
            "image/png": "[encoded data removed]",
            "text/plain": [
              "<Figure size 3600x800 with 1 Axes>"
            ]
          },
          "metadata": {},
          "output_type": "display_data"
        }
      ],
      "source": [
        "df3.plot(kind = 'bar', figsize = (36,8))"
      ]
    },
    {
      "cell_type": "markdown",
      "metadata": {
        "id": "q2o3rO4JOKKo"
      },
      "source": [
        "## No. of Votes, Location Wise"
      ]
    },
    {
      "cell_type": "code",
      "execution_count": 39,
      "metadata": {
        "colab": {
          "base_uri": "https://localhost:8080/",
          "height": 237
        },
        "execution": {
          "iopub.execute_input": "2021-06-01T09:41:49.578134Z",
          "iopub.status.busy": "2021-06-01T09:41:49.57777Z",
          "iopub.status.idle": "2021-06-01T09:41:49.609509Z",
          "shell.execute_reply": "2021-06-01T09:41:49.608132Z",
          "shell.execute_reply.started": "2021-06-01T09:41:49.578105Z"
        },
        "id": "qN_mw-UxOKKo",
        "outputId": "e0a68279-dc5f-43e3-99b8-4d5e5b07928b",
        "trusted": true
      },
      "outputs": [
        {
          "data": {
            "text/html": [
              "<div>\n",
              "<style scoped>\n",
              "    .dataframe tbody tr th:only-of-type {\n",
              "        vertical-align: middle;\n",
              "    }\n",
              "\n",
              "    .dataframe tbody tr th {\n",
              "        vertical-align: top;\n",
              "    }\n",
              "\n",
              "    .dataframe thead th {\n",
              "        text-align: right;\n",
              "    }\n",
              "</style>\n",
              "<table border=\"1\" class=\"dataframe\">\n",
              "  <thead>\n",
              "    <tr style=\"text-align: right;\">\n",
              "      <th></th>\n",
              "      <th>votes</th>\n",
              "    </tr>\n",
              "    <tr>\n",
              "      <th>location</th>\n",
              "      <th></th>\n",
              "    </tr>\n",
              "  </thead>\n",
              "  <tbody>\n",
              "    <tr>\n",
              "      <th>Koramangala 5th Block</th>\n",
              "      <td>2214083</td>\n",
              "    </tr>\n",
              "    <tr>\n",
              "      <th>Indiranagar</th>\n",
              "      <td>1165909</td>\n",
              "    </tr>\n",
              "    <tr>\n",
              "      <th>Koramangala 4th Block</th>\n",
              "      <td>685156</td>\n",
              "    </tr>\n",
              "    <tr>\n",
              "      <th>Church Street</th>\n",
              "      <td>590306</td>\n",
              "    </tr>\n",
              "    <tr>\n",
              "      <th>JP Nagar</th>\n",
              "      <td>586522</td>\n",
              "    </tr>\n",
              "  </tbody>\n",
              "</table>\n",
              "</div>"
            ],
            "text/plain": [
              "                         votes\n",
              "location                      \n",
              "Koramangala 5th Block  2214083\n",
              "Indiranagar            1165909\n",
              "Koramangala 4th Block   685156\n",
              "Church Street           590306\n",
              "JP Nagar                586522"
            ]
          },
          "execution_count": 39,
          "metadata": {},
          "output_type": "execute_result"
        }
      ],
      "source": [
        "df4 = df[['location', 'votes']]\n",
        "df4.drop_duplicates()\n",
        "df5 = df4.groupby(['location'])['votes'].sum()\n",
        "df5 = df5.to_frame()\n",
        "df5 = df5.sort_values('votes', ascending=False)\n",
        "df5.head()"
      ]
    },
    {
      "cell_type": "code",
      "execution_count": 40,
      "metadata": {
        "colab": {
          "base_uri": "https://localhost:8080/",
          "height": 1000
        },
        "execution": {
          "iopub.execute_input": "2021-06-01T09:42:51.938446Z",
          "iopub.status.busy": "2021-06-01T09:42:51.938105Z",
          "iopub.status.idle": "2021-06-01T09:42:52.484869Z",
          "shell.execute_reply": "2021-06-01T09:42:52.48388Z",
          "shell.execute_reply.started": "2021-06-01T09:42:51.938417Z"
        },
        "id": "qmXqcP64OKKp",
        "outputId": "192f2799-cd05-454c-aaa3-41aeed44768f",
        "trusted": true
      },
      "outputs": [
        {
          "data": {
            "text/plain": [
              "([0,\n",
              "  1,\n",
              "  2,\n",
              "  3,\n",
              "  4,\n",
              "  5,\n",
              "  6,\n",
              "  7,\n",
              "  8,\n",
              "  9,\n",
              "  10,\n",
              "  11,\n",
              "  12,\n",
              "  13,\n",
              "  14,\n",
              "  15,\n",
              "  16,\n",
              "  17,\n",
              "  18,\n",
              "  19,\n",
              "  20,\n",
              "  21,\n",
              "  22,\n",
              "  23,\n",
              "  24,\n",
              "  25,\n",
              "  26,\n",
              "  27,\n",
              "  28,\n",
              "  29,\n",
              "  30,\n",
              "  31,\n",
              "  32,\n",
              "  33,\n",
              "  34,\n",
              "  35,\n",
              "  36,\n",
              "  37,\n",
              "  38,\n",
              "  39,\n",
              "  40,\n",
              "  41],\n",
              " [Text(0, 0, 'Koramangala 5th Block'),\n",
              "  Text(1, 0, 'Indiranagar'),\n",
              "  Text(2, 0, 'Koramangala 4th Block'),\n",
              "  Text(3, 0, 'Church Street'),\n",
              "  Text(4, 0, 'JP Nagar'),\n",
              "  Text(5, 0, 'BTM'),\n",
              "  Text(6, 0, 'others'),\n",
              "  Text(7, 0, 'HSR'),\n",
              "  Text(8, 0, 'Lavelle Road'),\n",
              "  Text(9, 0, 'Koramangala 7th Block'),\n",
              "  Text(10, 0, 'Jayanagar'),\n",
              "  Text(11, 0, 'Whitefield'),\n",
              "  Text(12, 0, 'Koramangala 6th Block'),\n",
              "  Text(13, 0, 'Marathahalli'),\n",
              "  Text(14, 0, 'MG Road'),\n",
              "  Text(15, 0, 'Brigade Road'),\n",
              "  Text(16, 0, 'Sarjapur Road'),\n",
              "  Text(17, 0, 'Residency Road'),\n",
              "  Text(18, 0, 'Cunningham Road'),\n",
              "  Text(19, 0, 'St. Marks Road'),\n",
              "  Text(20, 0, 'Koramangala 1st Block'),\n",
              "  Text(21, 0, 'Malleshwaram'),\n",
              "  Text(22, 0, 'Bannerghatta Road'),\n",
              "  Text(23, 0, 'Bellandur'),\n",
              "  Text(24, 0, 'Ulsoor'),\n",
              "  Text(25, 0, 'New BEL Road'),\n",
              "  Text(26, 0, 'Kalyan Nagar'),\n",
              "  Text(27, 0, 'Banashankari'),\n",
              "  Text(28, 0, 'Old Airport Road'),\n",
              "  Text(29, 0, 'Brookefield'),\n",
              "  Text(30, 0, 'Richmond Road'),\n",
              "  Text(31, 0, 'Electronic City'),\n",
              "  Text(32, 0, 'Kammanahalli'),\n",
              "  Text(33, 0, 'Frazer Town'),\n",
              "  Text(34, 0, 'Domlur'),\n",
              "  Text(35, 0, 'Basavanagudi'),\n",
              "  Text(36, 0, 'Rajajinagar'),\n",
              "  Text(37, 0, 'Shanti Nagar'),\n",
              "  Text(38, 0, 'Banaswadi'),\n",
              "  Text(39, 0, 'Commercial Street'),\n",
              "  Text(40, 0, 'Ejipura'),\n",
              "  Text(41, 0, 'Shivajinagar')])"
            ]
          },
          "execution_count": 40,
          "metadata": {},
          "output_type": "execute_result"
        },
        {
          "data": {
            "image/png": "[encoded data removed]",
            "text/plain": [
              "<Figure size 1500x800 with 1 Axes>"
            ]
          },
          "metadata": {},
          "output_type": "display_data"
        }
      ],
      "source": [
        "plt.figure(figsize = (15,8))\n",
        "sns.barplot(x = df5.index , y = df5['votes'])\n",
        "plt.xticks(rotation = 90)"
      ]
    },
    {
      "cell_type": "code",
      "execution_count": 41,
      "metadata": {
        "colab": {
          "base_uri": "https://localhost:8080/",
          "height": 206
        },
        "execution": {
          "iopub.execute_input": "2021-06-01T09:33:40.831409Z",
          "iopub.status.busy": "2021-06-01T09:33:40.830958Z",
          "iopub.status.idle": "2021-06-01T09:33:40.856217Z",
          "shell.execute_reply": "2021-06-01T09:33:40.854211Z",
          "shell.execute_reply.started": "2021-06-01T09:33:40.831364Z"
        },
        "id": "dlwZNG5DOKKp",
        "outputId": "5fd53f6f-4e68-4a99-97d9-01230403a66d",
        "trusted": true
      },
      "outputs": [
        {
          "data": {
            "text/html": [
              "<div>\n",
              "<style scoped>\n",
              "    .dataframe tbody tr th:only-of-type {\n",
              "        vertical-align: middle;\n",
              "    }\n",
              "\n",
              "    .dataframe tbody tr th {\n",
              "        vertical-align: top;\n",
              "    }\n",
              "\n",
              "    .dataframe thead th {\n",
              "        text-align: right;\n",
              "    }\n",
              "</style>\n",
              "<table border=\"1\" class=\"dataframe\">\n",
              "  <thead>\n",
              "    <tr style=\"text-align: right;\">\n",
              "      <th></th>\n",
              "      <th>name</th>\n",
              "      <th>online_order</th>\n",
              "      <th>book_table</th>\n",
              "      <th>rate</th>\n",
              "      <th>votes</th>\n",
              "      <th>location</th>\n",
              "      <th>rest_type</th>\n",
              "      <th>cuisines</th>\n",
              "      <th>cost</th>\n",
              "      <th>Type</th>\n",
              "    </tr>\n",
              "  </thead>\n",
              "  <tbody>\n",
              "    <tr>\n",
              "      <th>0</th>\n",
              "      <td>Jalsa</td>\n",
              "      <td>Yes</td>\n",
              "      <td>Yes</td>\n",
              "      <td>4.1</td>\n",
              "      <td>775</td>\n",
              "      <td>Banashankari</td>\n",
              "      <td>Casual Dining</td>\n",
              "      <td>North Indian, Mughlai, Chinese</td>\n",
              "      <td>800.0</td>\n",
              "      <td>Buffet</td>\n",
              "    </tr>\n",
              "    <tr>\n",
              "      <th>1</th>\n",
              "      <td>Spice Elephant</td>\n",
              "      <td>Yes</td>\n",
              "      <td>No</td>\n",
              "      <td>4.1</td>\n",
              "      <td>787</td>\n",
              "      <td>Banashankari</td>\n",
              "      <td>Casual Dining</td>\n",
              "      <td>others</td>\n",
              "      <td>800.0</td>\n",
              "      <td>Buffet</td>\n",
              "    </tr>\n",
              "    <tr>\n",
              "      <th>2</th>\n",
              "      <td>San Churro Cafe</td>\n",
              "      <td>Yes</td>\n",
              "      <td>No</td>\n",
              "      <td>3.8</td>\n",
              "      <td>918</td>\n",
              "      <td>Banashankari</td>\n",
              "      <td>others</td>\n",
              "      <td>others</td>\n",
              "      <td>800.0</td>\n",
              "      <td>Buffet</td>\n",
              "    </tr>\n",
              "    <tr>\n",
              "      <th>3</th>\n",
              "      <td>Addhuri Udupi Bhojana</td>\n",
              "      <td>No</td>\n",
              "      <td>No</td>\n",
              "      <td>3.7</td>\n",
              "      <td>88</td>\n",
              "      <td>Banashankari</td>\n",
              "      <td>Quick Bites</td>\n",
              "      <td>South Indian, North Indian</td>\n",
              "      <td>300.0</td>\n",
              "      <td>Buffet</td>\n",
              "    </tr>\n",
              "    <tr>\n",
              "      <th>4</th>\n",
              "      <td>Grand Village</td>\n",
              "      <td>No</td>\n",
              "      <td>No</td>\n",
              "      <td>3.8</td>\n",
              "      <td>166</td>\n",
              "      <td>Basavanagudi</td>\n",
              "      <td>Casual Dining</td>\n",
              "      <td>others</td>\n",
              "      <td>600.0</td>\n",
              "      <td>Buffet</td>\n",
              "    </tr>\n",
              "  </tbody>\n",
              "</table>\n",
              "</div>"
            ],
            "text/plain": [
              "                    name online_order book_table  rate  votes      location  \\\n",
              "0                  Jalsa          Yes        Yes   4.1    775  Banashankari   \n",
              "1         Spice Elephant          Yes         No   4.1    787  Banashankari   \n",
              "2        San Churro Cafe          Yes         No   3.8    918  Banashankari   \n",
              "3  Addhuri Udupi Bhojana           No         No   3.7     88  Banashankari   \n",
              "4          Grand Village           No         No   3.8    166  Basavanagudi   \n",
              "\n",
              "       rest_type                        cuisines   cost    Type  \n",
              "0  Casual Dining  North Indian, Mughlai, Chinese  800.0  Buffet  \n",
              "1  Casual Dining                          others  800.0  Buffet  \n",
              "2         others                          others  800.0  Buffet  \n",
              "3    Quick Bites      South Indian, North Indian  300.0  Buffet  \n",
              "4  Casual Dining                          others  600.0  Buffet  "
            ]
          },
          "execution_count": 41,
          "metadata": {},
          "output_type": "execute_result"
        }
      ],
      "source": [
        "df.head()"
      ]
    },
    {
      "cell_type": "markdown",
      "metadata": {
        "id": "p0d4DryNOKKq"
      },
      "source": [
        "## Visualizing Top Cuisines"
      ]
    },
    {
      "cell_type": "code",
      "execution_count": 42,
      "metadata": {
        "colab": {
          "base_uri": "https://localhost:8080/",
          "height": 237
        },
        "execution": {
          "iopub.execute_input": "2021-06-01T09:46:03.838762Z",
          "iopub.status.busy": "2021-06-01T09:46:03.838319Z",
          "iopub.status.idle": "2021-06-01T09:46:03.867414Z",
          "shell.execute_reply": "2021-06-01T09:46:03.866637Z",
          "shell.execute_reply.started": "2021-06-01T09:46:03.838722Z"
        },
        "id": "9_AKyPkoOKKq",
        "outputId": "d415ab62-9087-4948-b4ef-67f6ac2ed3f8",
        "trusted": true
      },
      "outputs": [
        {
          "data": {
            "text/html": [
              "<div>\n",
              "<style scoped>\n",
              "    .dataframe tbody tr th:only-of-type {\n",
              "        vertical-align: middle;\n",
              "    }\n",
              "\n",
              "    .dataframe tbody tr th {\n",
              "        vertical-align: top;\n",
              "    }\n",
              "\n",
              "    .dataframe thead th {\n",
              "        text-align: right;\n",
              "    }\n",
              "</style>\n",
              "<table border=\"1\" class=\"dataframe\">\n",
              "  <thead>\n",
              "    <tr style=\"text-align: right;\">\n",
              "      <th></th>\n",
              "      <th>votes</th>\n",
              "    </tr>\n",
              "    <tr>\n",
              "      <th>cuisines</th>\n",
              "      <th></th>\n",
              "    </tr>\n",
              "  </thead>\n",
              "  <tbody>\n",
              "    <tr>\n",
              "      <th>others</th>\n",
              "      <td>11542182</td>\n",
              "    </tr>\n",
              "    <tr>\n",
              "      <th>North Indian</th>\n",
              "      <td>516310</td>\n",
              "    </tr>\n",
              "    <tr>\n",
              "      <th>North Indian, Chinese</th>\n",
              "      <td>258225</td>\n",
              "    </tr>\n",
              "    <tr>\n",
              "      <th>South Indian</th>\n",
              "      <td>161975</td>\n",
              "    </tr>\n",
              "    <tr>\n",
              "      <th>North Indian, Mughlai</th>\n",
              "      <td>103706</td>\n",
              "    </tr>\n",
              "  </tbody>\n",
              "</table>\n",
              "</div>"
            ],
            "text/plain": [
              "                          votes\n",
              "cuisines                       \n",
              "others                 11542182\n",
              "North Indian             516310\n",
              "North Indian, Chinese    258225\n",
              "South Indian             161975\n",
              "North Indian, Mughlai    103706"
            ]
          },
          "execution_count": 42,
          "metadata": {},
          "output_type": "execute_result"
        }
      ],
      "source": [
        "df6 = df[['cuisines', 'votes']]\n",
        "df6.drop_duplicates()\n",
        "df7 = df6.groupby(['cuisines'])['votes'].sum()\n",
        "df7 = df7.to_frame()\n",
        "df7 = df7.sort_values('votes', ascending=False)\n",
        "df7.head()"
      ]
    },
    {
      "cell_type": "code",
      "execution_count": 43,
      "metadata": {
        "colab": {
          "base_uri": "https://localhost:8080/",
          "height": 237
        },
        "execution": {
          "iopub.execute_input": "2021-06-01T09:48:05.758506Z",
          "iopub.status.busy": "2021-06-01T09:48:05.757985Z",
          "iopub.status.idle": "2021-06-01T09:48:05.769798Z",
          "shell.execute_reply": "2021-06-01T09:48:05.768645Z",
          "shell.execute_reply.started": "2021-06-01T09:48:05.758474Z"
        },
        "id": "tAul0cfROKKq",
        "outputId": "d660a65b-0c37-4fb5-c676-1b61335a4e56",
        "trusted": true
      },
      "outputs": [
        {
          "data": {
            "text/html": [
              "<div>\n",
              "<style scoped>\n",
              "    .dataframe tbody tr th:only-of-type {\n",
              "        vertical-align: middle;\n",
              "    }\n",
              "\n",
              "    .dataframe tbody tr th {\n",
              "        vertical-align: top;\n",
              "    }\n",
              "\n",
              "    .dataframe thead th {\n",
              "        text-align: right;\n",
              "    }\n",
              "</style>\n",
              "<table border=\"1\" class=\"dataframe\">\n",
              "  <thead>\n",
              "    <tr style=\"text-align: right;\">\n",
              "      <th></th>\n",
              "      <th>votes</th>\n",
              "    </tr>\n",
              "    <tr>\n",
              "      <th>cuisines</th>\n",
              "      <th></th>\n",
              "    </tr>\n",
              "  </thead>\n",
              "  <tbody>\n",
              "    <tr>\n",
              "      <th>North Indian</th>\n",
              "      <td>516310</td>\n",
              "    </tr>\n",
              "    <tr>\n",
              "      <th>North Indian, Chinese</th>\n",
              "      <td>258225</td>\n",
              "    </tr>\n",
              "    <tr>\n",
              "      <th>South Indian</th>\n",
              "      <td>161975</td>\n",
              "    </tr>\n",
              "    <tr>\n",
              "      <th>North Indian, Mughlai</th>\n",
              "      <td>103706</td>\n",
              "    </tr>\n",
              "    <tr>\n",
              "      <th>Chinese</th>\n",
              "      <td>101728</td>\n",
              "    </tr>\n",
              "  </tbody>\n",
              "</table>\n",
              "</div>"
            ],
            "text/plain": [
              "                        votes\n",
              "cuisines                     \n",
              "North Indian           516310\n",
              "North Indian, Chinese  258225\n",
              "South Indian           161975\n",
              "North Indian, Mughlai  103706\n",
              "Chinese                101728"
            ]
          },
          "execution_count": 43,
          "metadata": {},
          "output_type": "execute_result"
        }
      ],
      "source": [
        "df7 = df7.iloc[1:, :]\n",
        "df7.head()"
      ]
    },
    {
      "cell_type": "code",
      "execution_count": 44,
      "metadata": {
        "colab": {
          "base_uri": "https://localhost:8080/",
          "height": 1000
        },
        "execution": {
          "iopub.execute_input": "2021-06-01T09:48:09.06856Z",
          "iopub.status.busy": "2021-06-01T09:48:09.068127Z",
          "iopub.status.idle": "2021-06-01T09:48:10.574339Z",
          "shell.execute_reply": "2021-06-01T09:48:10.573554Z",
          "shell.execute_reply.started": "2021-06-01T09:48:09.068524Z"
        },
        "id": "jaR6cUNVOKKq",
        "outputId": "1bd78b8e-0ca7-46a0-c6a0-d33e70c91c9f",
        "trusted": true
      },
      "outputs": [
        {
          "data": {
            "text/plain": [
              "([0,\n",
              "  1,\n",
              "  2,\n",
              "  3,\n",
              "  4,\n",
              "  5,\n",
              "  6,\n",
              "  7,\n",
              "  8,\n",
              "  9,\n",
              "  10,\n",
              "  11,\n",
              "  12,\n",
              "  13,\n",
              "  14,\n",
              "  15,\n",
              "  16,\n",
              "  17,\n",
              "  18,\n",
              "  19,\n",
              "  20,\n",
              "  21,\n",
              "  22,\n",
              "  23,\n",
              "  24,\n",
              "  25,\n",
              "  26,\n",
              "  27,\n",
              "  28,\n",
              "  29,\n",
              "  30,\n",
              "  31,\n",
              "  32,\n",
              "  33,\n",
              "  34,\n",
              "  35,\n",
              "  36,\n",
              "  37,\n",
              "  38,\n",
              "  39,\n",
              "  40,\n",
              "  41,\n",
              "  42,\n",
              "  43,\n",
              "  44,\n",
              "  45,\n",
              "  46,\n",
              "  47,\n",
              "  48,\n",
              "  49,\n",
              "  50,\n",
              "  51,\n",
              "  52,\n",
              "  53,\n",
              "  54,\n",
              "  55,\n",
              "  56,\n",
              "  57,\n",
              "  58,\n",
              "  59,\n",
              "  60,\n",
              "  61,\n",
              "  62,\n",
              "  63,\n",
              "  64,\n",
              "  65,\n",
              "  66,\n",
              "  67,\n",
              "  68],\n",
              " [Text(0, 0, 'North Indian'),\n",
              "  Text(1, 0, 'North Indian, Chinese'),\n",
              "  Text(2, 0, 'South Indian'),\n",
              "  Text(3, 0, 'North Indian, Mughlai'),\n",
              "  Text(4, 0, 'Chinese'),\n",
              "  Text(5, 0, 'Cafe'),\n",
              "  Text(6, 0, 'North Indian, South Indian'),\n",
              "  Text(7, 0, 'Desserts'),\n",
              "  Text(8, 0, 'Chinese, Momos'),\n",
              "  Text(9, 0, 'Ice Cream, Desserts'),\n",
              "  Text(10, 0, 'Cafe, Continental'),\n",
              "  Text(11, 0, 'Biryani, North Indian, Chinese'),\n",
              "  Text(12, 0, 'Chinese, Thai, Momos'),\n",
              "  Text(13, 0, 'South Indian, North Indian, Chinese'),\n",
              "  Text(14, 0, 'Desserts, Beverages'),\n",
              "  Text(15, 0, 'Biryani'),\n",
              "  Text(16, 0, 'Finger Food'),\n",
              "  Text(17, 0, 'Bakery, Desserts'),\n",
              "  Text(18, 0, 'Burger, Fast Food'),\n",
              "  Text(19, 0, 'Continental'),\n",
              "  Text(20, 0, 'Cafe, Desserts'),\n",
              "  Text(21, 0, 'Andhra, Biryani'),\n",
              "  Text(22, 0, 'North Indian, Continental'),\n",
              "  Text(23, 0, 'Pizza, Fast Food'),\n",
              "  Text(24, 0, 'Chinese, Thai'),\n",
              "  Text(25, 0, 'North Indian, Chinese, Biryani'),\n",
              "  Text(26, 0, 'South Indian, North Indian, Chinese, Street Food'),\n",
              "  Text(27, 0, 'Mithai, Street Food'),\n",
              "  Text(28, 0, 'North Indian, South Indian, Chinese'),\n",
              "  Text(29, 0, 'Desserts, Ice Cream'),\n",
              "  Text(30, 0, 'Biryani, North Indian'),\n",
              "  Text(31, 0, 'North Indian, Street Food'),\n",
              "  Text(32, 0, 'Fast Food'),\n",
              "  Text(33, 0, 'North Indian, Chinese, Seafood'),\n",
              "  Text(34, 0, 'Chinese, North Indian'),\n",
              "  Text(35, 0, 'North Indian, Biryani'),\n",
              "  Text(36, 0, 'Biryani, Kebab'),\n",
              "  Text(37, 0, 'Italian, Pizza'),\n",
              "  Text(38, 0, 'North Indian, Chinese, Fast Food'),\n",
              "  Text(39, 0, 'North Indian, Chinese, Continental'),\n",
              "  Text(40, 0, 'Desserts, Bakery'),\n",
              "  Text(41, 0, 'Arabian'),\n",
              "  Text(42, 0, 'North Indian, Chinese, South Indian'),\n",
              "  Text(43, 0, 'Pizza'),\n",
              "  Text(44, 0, 'South Indian, North Indian'),\n",
              "  Text(45, 0, 'North Indian, Mughlai, Chinese'),\n",
              "  Text(46, 0, 'Beverages, Fast Food'),\n",
              "  Text(47, 0, 'South Indian, Biryani'),\n",
              "  Text(48, 0, 'Fast Food, Rolls'),\n",
              "  Text(49, 0, 'Bakery'),\n",
              "  Text(50, 0, 'Andhra'),\n",
              "  Text(51, 0, 'Street Food'),\n",
              "  Text(52, 0, 'Kerala'),\n",
              "  Text(53, 0, 'Cafe, Bakery'),\n",
              "  Text(54, 0, 'Biryani, Fast Food'),\n",
              "  Text(55, 0, 'South Indian, Fast Food'),\n",
              "  Text(56, 0, 'North Indian, Fast Food'),\n",
              "  Text(57, 0, 'Bakery, Fast Food'),\n",
              "  Text(58, 0, 'Fast Food, Burger'),\n",
              "  Text(59, 0, 'Cafe, Fast Food'),\n",
              "  Text(60, 0, 'South Indian, Chinese'),\n",
              "  Text(61, 0, 'Beverages, Desserts'),\n",
              "  Text(62, 0, 'Ice Cream'),\n",
              "  Text(63, 0, 'Beverages'),\n",
              "  Text(64, 0, 'Biryani, South Indian'),\n",
              "  Text(65, 0, 'Kerala, South Indian'),\n",
              "  Text(66, 0, 'Fast Food, Beverages'),\n",
              "  Text(67, 0, 'South Indian, Chinese, North Indian'),\n",
              "  Text(68, 0, 'Mithai')])"
            ]
          },
          "execution_count": 44,
          "metadata": {},
          "output_type": "execute_result"
        },
        {
          "data": {
            "image/png": "[encoded data removed]",
            "text/plain": [
              "<Figure size 1500x800 with 1 Axes>"
            ]
          },
          "metadata": {},
          "output_type": "display_data"
        }
      ],
      "source": [
        "plt.figure(figsize = (15,8))\n",
        "sns.barplot(x = df7.index , y = df7['votes'])\n",
        "plt.xticks(rotation = 90)"
      ]
    },
    {
      "cell_type": "code",
      "execution_count": 45,
      "metadata": {
        "colab": {
          "base_uri": "https://localhost:8080/"
        },
        "id": "jcXTXmYCmqYS",
        "outputId": "99116e1c-0fa7-4d7c-e001-2dc9b11d282e"
      },
      "outputs": [
        {
          "name": "stdout",
          "output_type": "stream",
          "text": [
            "<class 'pandas.core.frame.DataFrame'>\n",
            "Index: 51042 entries, 0 to 51716\n",
            "Data columns (total 10 columns):\n",
            " #   Column        Non-Null Count  Dtype  \n",
            "---  ------        --------------  -----  \n",
            " 0   name          51042 non-null  object \n",
            " 1   online_order  51042 non-null  object \n",
            " 2   book_table    51042 non-null  object \n",
            " 3   rate          51042 non-null  float64\n",
            " 4   votes         51042 non-null  int64  \n",
            " 5   location      51042 non-null  object \n",
            " 6   rest_type     51042 non-null  object \n",
            " 7   cuisines      51042 non-null  object \n",
            " 8   cost          51042 non-null  float64\n",
            " 9   Type          51042 non-null  object \n",
            "dtypes: float64(2), int64(1), object(7)\n",
            "memory usage: 4.3+ MB\n"
          ]
        }
      ],
      "source": [
        "df.info()"
      ]
    },
    {
      "cell_type": "code",
      "execution_count": 47,
      "metadata": {
        "id": "ZoK8iZTAp6GE"
      },
      "outputs": [
        {
          "name": "stderr",
          "output_type": "stream",
          "text": [
            "c:\\Users\\ABDALRAHMAN\\AppData\\Local\\Programs\\Python\\Python313\\Lib\\site-packages\\google\\protobuf\\runtime_version.py:98: UserWarning: Protobuf gencode version 5.28.3 is exactly one major version older than the runtime version 6.31.1 at tensorflow/core/framework/attr_value.proto. Please update the gencode to avoid compatibility violations in the next runtime release.\n",
            "  warnings.warn(\n",
            "c:\\Users\\ABDALRAHMAN\\AppData\\Local\\Programs\\Python\\Python313\\Lib\\site-packages\\google\\protobuf\\runtime_version.py:98: UserWarning: Protobuf gencode version 5.28.3 is exactly one major version older than the runtime version 6.31.1 at tensorflow/core/framework/tensor.proto. Please update the gencode to avoid compatibility violations in the next runtime release.\n",
            "  warnings.warn(\n",
            "c:\\Users\\ABDALRAHMAN\\AppData\\Local\\Programs\\Python\\Python313\\Lib\\site-packages\\google\\protobuf\\runtime_version.py:98: UserWarning: Protobuf gencode version 5.28.3 is exactly one major version older than the runtime version 6.31.1 at tensorflow/core/framework/resource_handle.proto. Please update the gencode to avoid compatibility violations in the next runtime release.\n",
            "  warnings.warn(\n",
            "c:\\Users\\ABDALRAHMAN\\AppData\\Local\\Programs\\Python\\Python313\\Lib\\site-packages\\google\\protobuf\\runtime_version.py:98: UserWarning: Protobuf gencode version 5.28.3 is exactly one major version older than the runtime version 6.31.1 at tensorflow/core/framework/tensor_shape.proto. Please update the gencode to avoid compatibility violations in the next runtime release.\n",
            "  warnings.warn(\n",
            "c:\\Users\\ABDALRAHMAN\\AppData\\Local\\Programs\\Python\\Python313\\Lib\\site-packages\\google\\protobuf\\runtime_version.py:98: UserWarning: Protobuf gencode version 5.28.3 is exactly one major version older than the runtime version 6.31.1 at tensorflow/core/framework/types.proto. Please update the gencode to avoid compatibility violations in the next runtime release.\n",
            "  warnings.warn(\n",
            "c:\\Users\\ABDALRAHMAN\\AppData\\Local\\Programs\\Python\\Python313\\Lib\\site-packages\\google\\protobuf\\runtime_version.py:98: UserWarning: Protobuf gencode version 5.28.3 is exactly one major version older than the runtime version 6.31.1 at tensorflow/core/framework/full_type.proto. Please update the gencode to avoid compatibility violations in the next runtime release.\n",
            "  warnings.warn(\n",
            "c:\\Users\\ABDALRAHMAN\\AppData\\Local\\Programs\\Python\\Python313\\Lib\\site-packages\\google\\protobuf\\runtime_version.py:98: UserWarning: Protobuf gencode version 5.28.3 is exactly one major version older than the runtime version 6.31.1 at tensorflow/core/framework/function.proto. Please update the gencode to avoid compatibility violations in the next runtime release.\n",
            "  warnings.warn(\n",
            "c:\\Users\\ABDALRAHMAN\\AppData\\Local\\Programs\\Python\\Python313\\Lib\\site-packages\\google\\protobuf\\runtime_version.py:98: UserWarning: Protobuf gencode version 5.28.3 is exactly one major version older than the runtime version 6.31.1 at tensorflow/core/framework/node_def.proto. Please update the gencode to avoid compatibility violations in the next runtime release.\n",
            "  warnings.warn(\n",
            "c:\\Users\\ABDALRAHMAN\\AppData\\Local\\Programs\\Python\\Python313\\Lib\\site-packages\\google\\protobuf\\runtime_version.py:98: UserWarning: Protobuf gencode version 5.28.3 is exactly one major version older than the runtime version 6.31.1 at tensorflow/core/framework/op_def.proto. Please update the gencode to avoid compatibility violations in the next runtime release.\n",
            "  warnings.warn(\n",
            "c:\\Users\\ABDALRAHMAN\\AppData\\Local\\Programs\\Python\\Python313\\Lib\\site-packages\\google\\protobuf\\runtime_version.py:98: UserWarning: Protobuf gencode version 5.28.3 is exactly one major version older than the runtime version 6.31.1 at tensorflow/core/framework/graph.proto. Please update the gencode to avoid compatibility violations in the next runtime release.\n",
            "  warnings.warn(\n",
            "c:\\Users\\ABDALRAHMAN\\AppData\\Local\\Programs\\Python\\Python313\\Lib\\site-packages\\google\\protobuf\\runtime_version.py:98: UserWarning: Protobuf gencode version 5.28.3 is exactly one major version older than the runtime version 6.31.1 at tensorflow/core/framework/graph_debug_info.proto. Please update the gencode to avoid compatibility violations in the next runtime release.\n",
            "  warnings.warn(\n",
            "c:\\Users\\ABDALRAHMAN\\AppData\\Local\\Programs\\Python\\Python313\\Lib\\site-packages\\google\\protobuf\\runtime_version.py:98: UserWarning: Protobuf gencode version 5.28.3 is exactly one major version older than the runtime version 6.31.1 at tensorflow/core/framework/versions.proto. Please update the gencode to avoid compatibility violations in the next runtime release.\n",
            "  warnings.warn(\n",
            "c:\\Users\\ABDALRAHMAN\\AppData\\Local\\Programs\\Python\\Python313\\Lib\\site-packages\\google\\protobuf\\runtime_version.py:98: UserWarning: Protobuf gencode version 5.28.3 is exactly one major version older than the runtime version 6.31.1 at tensorflow/core/protobuf/config.proto. Please update the gencode to avoid compatibility violations in the next runtime release.\n",
            "  warnings.warn(\n",
            "c:\\Users\\ABDALRAHMAN\\AppData\\Local\\Programs\\Python\\Python313\\Lib\\site-packages\\google\\protobuf\\runtime_version.py:98: UserWarning: Protobuf gencode version 5.28.3 is exactly one major version older than the runtime version 6.31.1 at xla/tsl/protobuf/coordination_config.proto. Please update the gencode to avoid compatibility violations in the next runtime release.\n",
            "  warnings.warn(\n",
            "c:\\Users\\ABDALRAHMAN\\AppData\\Local\\Programs\\Python\\Python313\\Lib\\site-packages\\google\\protobuf\\runtime_version.py:98: UserWarning: Protobuf gencode version 5.28.3 is exactly one major version older than the runtime version 6.31.1 at tensorflow/core/framework/cost_graph.proto. Please update the gencode to avoid compatibility violations in the next runtime release.\n",
            "  warnings.warn(\n",
            "c:\\Users\\ABDALRAHMAN\\AppData\\Local\\Programs\\Python\\Python313\\Lib\\site-packages\\google\\protobuf\\runtime_version.py:98: UserWarning: Protobuf gencode version 5.28.3 is exactly one major version older than the runtime version 6.31.1 at tensorflow/core/framework/step_stats.proto. Please update the gencode to avoid compatibility violations in the next runtime release.\n",
            "  warnings.warn(\n",
            "c:\\Users\\ABDALRAHMAN\\AppData\\Local\\Programs\\Python\\Python313\\Lib\\site-packages\\google\\protobuf\\runtime_version.py:98: UserWarning: Protobuf gencode version 5.28.3 is exactly one major version older than the runtime version 6.31.1 at tensorflow/core/framework/allocation_description.proto. Please update the gencode to avoid compatibility violations in the next runtime release.\n",
            "  warnings.warn(\n",
            "c:\\Users\\ABDALRAHMAN\\AppData\\Local\\Programs\\Python\\Python313\\Lib\\site-packages\\google\\protobuf\\runtime_version.py:98: UserWarning: Protobuf gencode version 5.28.3 is exactly one major version older than the runtime version 6.31.1 at tensorflow/core/framework/tensor_description.proto. Please update the gencode to avoid compatibility violations in the next runtime release.\n",
            "  warnings.warn(\n",
            "c:\\Users\\ABDALRAHMAN\\AppData\\Local\\Programs\\Python\\Python313\\Lib\\site-packages\\google\\protobuf\\runtime_version.py:98: UserWarning: Protobuf gencode version 5.28.3 is exactly one major version older than the runtime version 6.31.1 at tensorflow/core/protobuf/cluster.proto. Please update the gencode to avoid compatibility violations in the next runtime release.\n",
            "  warnings.warn(\n",
            "c:\\Users\\ABDALRAHMAN\\AppData\\Local\\Programs\\Python\\Python313\\Lib\\site-packages\\google\\protobuf\\runtime_version.py:98: UserWarning: Protobuf gencode version 5.28.3 is exactly one major version older than the runtime version 6.31.1 at tensorflow/core/protobuf/debug.proto. Please update the gencode to avoid compatibility violations in the next runtime release.\n",
            "  warnings.warn(\n"
          ]
        }
      ],
      "source": [
        "import pandas as pd\n",
        "from sklearn.model_selection import train_test_split\n",
        "from sklearn.preprocessing import LabelEncoder, StandardScaler, OneHotEncoder\n",
        "from sklearn.compose import ColumnTransformer\n",
        "from sklearn.pipeline import Pipeline\n",
        "from sklearn.metrics import accuracy_score\n",
        "\n",
        "# ML models\n",
        "from sklearn.linear_model import LogisticRegression\n",
        "from sklearn.neighbors import KNeighborsClassifier\n",
        "from sklearn.svm import SVC\n",
        "from sklearn.tree import DecisionTreeClassifier\n",
        "from sklearn.ensemble import RandomForestClassifier, GradientBoostingClassifier, AdaBoostClassifier, ExtraTreesClassifier\n",
        "from xgboost import XGBClassifier\n",
        "import lightgbm as lgb\n",
        "\n",
        "# Neural Network\n",
        "from tensorflow.keras.models import Sequential\n",
        "from tensorflow.keras.layers import Dense, Dropout\n"
      ]
    },
    {
      "cell_type": "code",
      "execution_count": 48,
      "metadata": {
        "id": "ChZXqhHqp8Ec"
      },
      "outputs": [],
      "source": [
        "# ----------------- 1. Preprocessing -----------------\n",
        "# Binary classification example\n",
        "df['popular'] = df['rate'].apply(lambda x: 1 if x >= 4 else 0)  # 1 = popular, 0 = not popular\n",
        "X = df.drop(['name', 'rate'], axis=1)  # drop rate as it's now the target\n",
        "y = df['popular']\n",
        "\n",
        "le = LabelEncoder()\n",
        "y = le.fit_transform(y)\n",
        "\n",
        "cat_cols = ['online_order', 'book_table', 'location', 'rest_type', 'cuisines']\n",
        "num_cols = ['votes', 'cost']\n",
        "\n",
        "preprocessor = ColumnTransformer([\n",
        "    ('num', StandardScaler(), num_cols),\n",
        "    ('cat', OneHotEncoder(handle_unknown='ignore'), cat_cols)\n",
        "])\n",
        "\n",
        "X_train, X_test, y_train, y_test = train_test_split(X, y, test_size=0.2, random_state=42)\n"
      ]
    },
    {
      "cell_type": "code",
      "execution_count": 49,
      "metadata": {
        "id": "N5wECqKbp939"
      },
      "outputs": [],
      "source": [
        "# ----------------- 2. Define all ML models -----------------\n",
        "models = {\n",
        "    \"Logistic Regression\": LogisticRegression(max_iter=1000),\n",
        "    \"KNN\": KNeighborsClassifier(n_neighbors=5),\n",
        "    \"SVM\": SVC(probability=True),\n",
        "    \"Decision Tree\": DecisionTreeClassifier(random_state=42),\n",
        "    \"Random Forest\": RandomForestClassifier(n_estimators=200, random_state=42),\n",
        "    \"Gradient Boosting\": GradientBoostingClassifier(n_estimators=200, random_state=42),\n",
        "    \"XGBoost\": XGBClassifier(n_estimators=200, eval_metric='logloss', random_state=42),\n",
        "    \"AdaBoost\": AdaBoostClassifier(n_estimators=200, random_state=42),\n",
        "    \"Extra Trees\": ExtraTreesClassifier(n_estimators=200, random_state=42),\n",
        "    \"LightGBM\": lgb.LGBMClassifier(n_estimators=200, random_state=42),\n",
        "}"
      ]
    },
    {
      "cell_type": "code",
      "execution_count": 50,
      "metadata": {
        "colab": {
          "base_uri": "https://localhost:8080/"
        },
        "id": "cMUK9cHBp_kt",
        "outputId": "1def7185-e3fe-4511-e0a6-e7722d45c572"
      },
      "outputs": [
        {
          "name": "stdout",
          "output_type": "stream",
          "text": [
            "Logistic Regression Accuracy: 0.8732\n",
            "KNN Accuracy: 0.9566\n",
            "SVM Accuracy: 0.9096\n",
            "Decision Tree Accuracy: 0.9844\n",
            "Random Forest Accuracy: 0.9878\n",
            "Gradient Boosting Accuracy: 0.9028\n",
            "XGBoost Accuracy: 0.9556\n",
            "AdaBoost Accuracy: 0.8863\n",
            "Extra Trees Accuracy: 0.9873\n",
            "[LightGBM] [Info] Number of positive: 9755, number of negative: 31078\n",
            "[LightGBM] [Info] Auto-choosing row-wise multi-threading, the overhead of testing was 0.021075 seconds.\n",
            "You can set `force_row_wise=true` to remove the overhead.\n",
            "And if memory is not enough, you can set `force_col_wise=true`.\n",
            "[LightGBM] [Info] Total Bins 564\n",
            "[LightGBM] [Info] Number of data points in the train set: 40833, number of used features: 127\n",
            "[LightGBM] [Info] [binary:BoostFromScore]: pavg=0.238900 -> initscore=-1.158720\n",
            "[LightGBM] [Info] Start training from score -1.158720\n",
            "LightGBM Accuracy: 0.9410\n"
          ]
        },
        {
          "name": "stderr",
          "output_type": "stream",
          "text": [
            "c:\\Users\\ABDALRAHMAN\\AppData\\Local\\Programs\\Python\\Python313\\Lib\\site-packages\\sklearn\\utils\\validation.py:2749: UserWarning: X does not have valid feature names, but LGBMClassifier was fitted with feature names\n",
            "  warnings.warn(\n"
          ]
        }
      ],
      "source": [
        "# ----------------- 3. Train and evaluate -----------------\n",
        "results = {}\n",
        "for name, model in models.items():\n",
        "    pipeline = Pipeline([('preprocessor', preprocessor), ('classifier', model)])\n",
        "    pipeline.fit(X_train, y_train)\n",
        "    y_pred = pipeline.predict(X_test)\n",
        "    acc = accuracy_score(y_test, y_pred)\n",
        "    results[name] = acc\n",
        "    print(f\"{name} Accuracy: {acc:.4f}\")"
      ]
    },
    {
      "cell_type": "code",
      "execution_count": 51,
      "metadata": {
        "colab": {
          "base_uri": "https://localhost:8080/"
        },
        "id": "oCM2kT5HqB00",
        "outputId": "8d1ee341-5438-4238-f922-6501f5a01fe2"
      },
      "outputs": [
        {
          "name": "stderr",
          "output_type": "stream",
          "text": [
            "c:\\Users\\ABDALRAHMAN\\AppData\\Local\\Programs\\Python\\Python313\\Lib\\site-packages\\keras\\src\\layers\\core\\dense.py:92: UserWarning: Do not pass an `input_shape`/`input_dim` argument to a layer. When using Sequential models, prefer using an `Input(shape)` object as the first layer in the model instead.\n",
            "  super().__init__(activity_regularizer=activity_regularizer, **kwargs)\n"
          ]
        },
        {
          "name": "stdout",
          "output_type": "stream",
          "text": [
            "Epoch 1/20\n",
            "\u001b[1m288/288\u001b[0m \u001b[32m━━━━━━━━━━━━━━━━━━━━\u001b[0m\u001b[37m\u001b[0m \u001b[1m6s\u001b[0m 7ms/step - accuracy: 0.8688 - loss: 0.3245 - val_accuracy: 0.8888 - val_loss: 0.2777\n",
            "Epoch 2/20\n",
            "\u001b[1m288/288\u001b[0m \u001b[32m━━━━━━━━━━━━━━━━━━━━\u001b[0m\u001b[37m\u001b[0m \u001b[1m1s\u001b[0m 5ms/step - accuracy: 0.8919 - loss: 0.2656 - val_accuracy: 0.9003 - val_loss: 0.2496\n",
            "Epoch 3/20\n",
            "\u001b[1m288/288\u001b[0m \u001b[32m━━━━━━━━━━━━━━━━━━━━\u001b[0m\u001b[37m\u001b[0m \u001b[1m1s\u001b[0m 5ms/step - accuracy: 0.9009 - loss: 0.2435 - val_accuracy: 0.9092 - val_loss: 0.2318\n",
            "Epoch 4/20\n",
            "\u001b[1m288/288\u001b[0m \u001b[32m━━━━━━━━━━━━━━━━━━━━\u001b[0m\u001b[37m\u001b[0m \u001b[1m4s\u001b[0m 12ms/step - accuracy: 0.9073 - loss: 0.2260 - val_accuracy: 0.9109 - val_loss: 0.2177\n",
            "Epoch 5/20\n",
            "\u001b[1m288/288\u001b[0m \u001b[32m━━━━━━━━━━━━━━━━━━━━\u001b[0m\u001b[37m\u001b[0m \u001b[1m2s\u001b[0m 5ms/step - accuracy: 0.9113 - loss: 0.2139 - val_accuracy: 0.9172 - val_loss: 0.2101\n",
            "Epoch 6/20\n",
            "\u001b[1m288/288\u001b[0m \u001b[32m━━━━━━━━━━━━━━━━━━━━\u001b[0m\u001b[37m\u001b[0m \u001b[1m1s\u001b[0m 5ms/step - accuracy: 0.9152 - loss: 0.2032 - val_accuracy: 0.9194 - val_loss: 0.2017\n",
            "Epoch 7/20\n",
            "\u001b[1m288/288\u001b[0m \u001b[32m━━━━━━━━━━━━━━━━━━━━\u001b[0m\u001b[37m\u001b[0m \u001b[1m4s\u001b[0m 13ms/step - accuracy: 0.9192 - loss: 0.1924 - val_accuracy: 0.9258 - val_loss: 0.1898\n",
            "Epoch 8/20\n",
            "\u001b[1m288/288\u001b[0m \u001b[32m━━━━━━━━━━━━━━━━━━━━\u001b[0m\u001b[37m\u001b[0m \u001b[1m1s\u001b[0m 5ms/step - accuracy: 0.9217 - loss: 0.1873 - val_accuracy: 0.9256 - val_loss: 0.1903\n",
            "Epoch 9/20\n",
            "\u001b[1m288/288\u001b[0m \u001b[32m━━━━━━━━━━━━━━━━━━━━\u001b[0m\u001b[37m\u001b[0m \u001b[1m2s\u001b[0m 5ms/step - accuracy: 0.9243 - loss: 0.1793 - val_accuracy: 0.9273 - val_loss: 0.1820\n",
            "Epoch 10/20\n",
            "\u001b[1m288/288\u001b[0m \u001b[32m━━━━━━━━━━━━━━━━━━━━\u001b[0m\u001b[37m\u001b[0m \u001b[1m3s\u001b[0m 12ms/step - accuracy: 0.9256 - loss: 0.1756 - val_accuracy: 0.9307 - val_loss: 0.1787\n",
            "Epoch 11/20\n",
            "\u001b[1m288/288\u001b[0m \u001b[32m━━━━━━━━━━━━━━━━━━━━\u001b[0m\u001b[37m\u001b[0m \u001b[1m3s\u001b[0m 6ms/step - accuracy: 0.9285 - loss: 0.1697 - val_accuracy: 0.9319 - val_loss: 0.1722\n",
            "Epoch 12/20\n",
            "\u001b[1m288/288\u001b[0m \u001b[32m━━━━━━━━━━━━━━━━━━━━\u001b[0m\u001b[37m\u001b[0m \u001b[1m2s\u001b[0m 5ms/step - accuracy: 0.9303 - loss: 0.1678 - val_accuracy: 0.9363 - val_loss: 0.1704\n",
            "Epoch 13/20\n",
            "\u001b[1m288/288\u001b[0m \u001b[32m━━━━━━━━━━━━━━━━━━━━\u001b[0m\u001b[37m\u001b[0m \u001b[1m2s\u001b[0m 5ms/step - accuracy: 0.9310 - loss: 0.1627 - val_accuracy: 0.9361 - val_loss: 0.1659\n",
            "Epoch 14/20\n",
            "\u001b[1m288/288\u001b[0m \u001b[32m━━━━━━━━━━━━━━━━━━━━\u001b[0m\u001b[37m\u001b[0m \u001b[1m4s\u001b[0m 12ms/step - accuracy: 0.9323 - loss: 0.1607 - val_accuracy: 0.9336 - val_loss: 0.1655\n",
            "Epoch 15/20\n",
            "\u001b[1m288/288\u001b[0m \u001b[32m━━━━━━━━━━━━━━━━━━━━\u001b[0m\u001b[37m\u001b[0m \u001b[1m3s\u001b[0m 5ms/step - accuracy: 0.9352 - loss: 0.1563 - val_accuracy: 0.9366 - val_loss: 0.1644\n",
            "Epoch 16/20\n",
            "\u001b[1m288/288\u001b[0m \u001b[32m━━━━━━━━━━━━━━━━━━━━\u001b[0m\u001b[37m\u001b[0m \u001b[1m3s\u001b[0m 5ms/step - accuracy: 0.9361 - loss: 0.1540 - val_accuracy: 0.9361 - val_loss: 0.1632\n",
            "Epoch 17/20\n",
            "\u001b[1m288/288\u001b[0m \u001b[32m━━━━━━━━━━━━━━━━━━━━\u001b[0m\u001b[37m\u001b[0m \u001b[1m1s\u001b[0m 5ms/step - accuracy: 0.9370 - loss: 0.1512 - val_accuracy: 0.9339 - val_loss: 0.1627\n",
            "Epoch 18/20\n",
            "\u001b[1m288/288\u001b[0m \u001b[32m━━━━━━━━━━━━━━━━━━━━\u001b[0m\u001b[37m\u001b[0m \u001b[1m1s\u001b[0m 5ms/step - accuracy: 0.9378 - loss: 0.1476 - val_accuracy: 0.9405 - val_loss: 0.1572\n",
            "Epoch 19/20\n",
            "\u001b[1m288/288\u001b[0m \u001b[32m━━━━━━━━━━━━━━━━━━━━\u001b[0m\u001b[37m\u001b[0m \u001b[1m4s\u001b[0m 10ms/step - accuracy: 0.9393 - loss: 0.1470 - val_accuracy: 0.9390 - val_loss: 0.1584\n",
            "Epoch 20/20\n",
            "\u001b[1m288/288\u001b[0m \u001b[32m━━━━━━━━━━━━━━━━━━━━\u001b[0m\u001b[37m\u001b[0m \u001b[1m1s\u001b[0m 5ms/step - accuracy: 0.9395 - loss: 0.1439 - val_accuracy: 0.9427 - val_loss: 0.1560\n",
            "\u001b[1m320/320\u001b[0m \u001b[32m━━━━━━━━━━━━━━━━━━━━\u001b[0m\u001b[37m\u001b[0m \u001b[1m1s\u001b[0m 2ms/step - accuracy: 0.9417 - loss: 0.1526\n",
            "Neural Network Accuracy: 0.9417\n"
          ]
        }
      ],
      "source": [
        "# ----------------- 4. Neural Network -----------------\n",
        "X_train_nn = preprocessor.fit_transform(X_train)\n",
        "X_test_nn = preprocessor.transform(X_test)\n",
        "\n",
        "nn_model = Sequential([\n",
        "    Dense(128, input_dim=X_train_nn.shape[1], activation='relu'),\n",
        "    Dropout(0.3),\n",
        "    Dense(64, activation='relu'),\n",
        "    Dense(1, activation='sigmoid')  # Binary classification\n",
        "])\n",
        "nn_model.compile(loss='binary_crossentropy', optimizer='adam', metrics=['accuracy'])\n",
        "nn_model.fit(X_train_nn, y_train, epochs=20, batch_size=128, validation_split=0.1)\n",
        "\n",
        "loss, acc = nn_model.evaluate(X_test_nn, y_test)\n",
        "results['Neural Network'] = acc\n",
        "print(f\"Neural Network Accuracy: {acc:.4f}\")"
      ]
    },
    {
      "cell_type": "code",
      "execution_count": 52,
      "metadata": {
        "colab": {
          "base_uri": "https://localhost:8080/"
        },
        "id": "4AWM1um0mwQi",
        "outputId": "4631103f-81ab-47d7-d5cd-9ab4f0efdcbd"
      },
      "outputs": [
        {
          "name": "stdout",
          "output_type": "stream",
          "text": [
            "\n",
            "Model comparison:\n",
            "Logistic Regression: 0.8732\n",
            "KNN: 0.9566\n",
            "SVM: 0.9096\n",
            "Decision Tree: 0.9844\n",
            "Random Forest: 0.9878\n",
            "Gradient Boosting: 0.9028\n",
            "XGBoost: 0.9556\n",
            "AdaBoost: 0.8863\n",
            "Extra Trees: 0.9873\n",
            "LightGBM: 0.9410\n",
            "Neural Network: 0.9417\n",
            "\n",
            "Best performing model: Random Forest with accuracy 0.9878\n"
          ]
        }
      ],
      "source": [
        "# ----------------- 5. Compare and select best -----------------\n",
        "best_model_name = max(results, key=results.get)\n",
        "best_accuracy = results[best_model_name]\n",
        "\n",
        "print(\"\\nModel comparison:\")\n",
        "for model, acc in results.items():\n",
        "    print(f\"{model}: {acc:.4f}\")\n",
        "\n",
        "print(f\"\\nBest performing model: {best_model_name} with accuracy {best_accuracy:.4f}\")\n"
      ]
    },
    {
      "cell_type": "code",
      "execution_count": 53,
      "metadata": {
        "colab": {
          "base_uri": "https://localhost:8080/"
        },
        "id": "O9LPJoEkvGyn",
        "outputId": "e1a80818-3ed5-4779-e913-834f87ee6f2f"
      },
      "outputs": [
        {
          "data": {
            "text/plain": [
              "['random_forest_pipeline.pkl']"
            ]
          },
          "execution_count": 53,
          "metadata": {},
          "output_type": "execute_result"
        }
      ],
      "source": [
        "import joblib\n",
        "# Save Neural Network in modern Keras format\n",
        "nn_model.save('nn_model.keras')  # instead of 'nn_model.h5'\n",
        "\n",
        "best_pipeline = Pipeline([('preprocessor', preprocessor), ('classifier', models['Random Forest'])])\n",
        "best_pipeline.fit(X_train, y_train)\n",
        "joblib.dump(best_pipeline, 'random_forest_pipeline.pkl')\n"
      ]
    },
    {
      "cell_type": "code",
      "execution_count": 54,
      "metadata": {
        "colab": {
          "base_uri": "https://localhost:8080/"
        },
        "id": "G0qZD3MxvWj5",
        "outputId": "16d15d51-fc0f-47ab-e333-4bb357750eb7"
      },
      "outputs": [
        {
          "name": "stdout",
          "output_type": "stream",
          "text": [
            "Predicted Popular: No\n",
            "\u001b[1m1/1\u001b[0m \u001b[32m━━━━━━━━━━━━━━━━━━━━\u001b[0m\u001b[37m\u001b[0m \u001b[1m0s\u001b[0m 254ms/step\n",
            "NN Prediction: No\n"
          ]
        }
      ],
      "source": [
        "new_restaurant = pd.DataFrame([{\n",
        "    'online_order': 'Yes',\n",
        "    'book_table': 'No',\n",
        "    'votes': 150,\n",
        "    'location': 'Bangalore',\n",
        "    'rest_type': 'Casual Dining',\n",
        "    'cuisines': 'Italian',\n",
        "    'cost': 800\n",
        "}])\n",
        "\n",
        "# Random Forest prediction\n",
        "pred_class = best_pipeline.predict(new_restaurant)\n",
        "print(\"Predicted Popular:\", 'Yes' if pred_class[0] == 1 else 'No')\n",
        "\n",
        "# Neural Network prediction\n",
        "new_nn = preprocessor.transform(new_restaurant)\n",
        "nn_pred = nn_model.predict(new_nn)\n",
        "nn_pred_label = int(nn_pred[0][0] > 0.5)\n",
        "print(\"NN Prediction:\", 'Yes' if nn_pred_label == 1 else 'No')\n"
      ]
    },
    {
      "cell_type": "code",
      "execution_count": 55,
      "metadata": {
        "id": "N5uQIzhwy8cb"
      },
      "outputs": [],
      "source": [
        "# Sample 5% for analysis to reduce load\n",
        "df_sample = df.sample(frac=0.05, random_state=42)\n",
        "\n",
        "# Save sampled dataset\n",
        "df_sample.to_csv(\"zomato_sample.csv\", index=False)"
      ]
    },
    {
      "cell_type": "code",
      "execution_count": 56,
      "metadata": {
        "id": "tGHyUbpGzD7J"
      },
      "outputs": [],
      "source": [
        "import joblib\n",
        "from tensorflow.keras.models import load_model\n",
        "\n",
        "rf_model = joblib.load(\"random_forest_pipeline.pkl\")\n",
        "nn_model = load_model(\"nn_model.keras\")\n"
      ]
    },
    {
      "cell_type": "code",
      "execution_count": 58,
      "metadata": {
        "colab": {
          "base_uri": "https://localhost:8080/"
        },
        "id": "CtdqyfxKzIxK",
        "outputId": "88a642be-467e-4bdc-f2d3-c584651cf6f8"
      },
      "outputs": [
        {
          "name": "stdout",
          "output_type": "stream",
          "text": [
            "Writing app.py\n"
          ]
        }
      ],
      "source": [
        "%%writefile app.py\n",
        "import streamlit as st\n",
        "import pandas as pd\n",
        "import matplotlib.pyplot as plt\n",
        "import seaborn as sns\n",
        "import joblib\n",
        "from tensorflow.keras.models import load_model\n",
        "\n",
        "# Load models\n",
        "rf_model = joblib.load(\"random_forest_pipeline.pkl\")\n",
        "nn_model = load_model(\"nn_model.keras\")\n",
        "\n",
        "st.set_page_config(page_title=\"Zomato Restaurant Popularity\", layout=\"wide\")\n",
        "page = st.sidebar.selectbox(\"Choose Page\", [\"Analysis\", \"Prediction\"])\n",
        "\n",
        "if page == \"Analysis\":\n",
        "    st.title(\"Zomato EDA & Key Findings\")\n",
        "    st.subheader(\"Distribution of Ratings\")\n",
        "    plt.figure(figsize=(10,5))\n",
        "    sns.histplot(df['rate'], bins=20, kde=True)\n",
        "    st.pyplot(plt)\n",
        "\n",
        "    st.subheader(\"Restaurant Type Counts\")\n",
        "    rest_counts = df['rest_type'].value_counts().head(20)\n",
        "    st.bar_chart(rest_counts)\n",
        "\n",
        "    st.subheader(\"Key Findings\")\n",
        "    st.write(\"\"\"\n",
        "    - Casual Dining and Quick Bites are the most common restaurant types.\n",
        "    - Restaurants that accept online orders tend to have slightly higher ratings.\n",
        "    - Popular cuisines include North Indian, Chinese, and Italian.\n",
        "    \"\"\")\n",
        "\n",
        "if page == \"Prediction\":\n",
        "    st.title(\"Predict Restaurant Popularity\")\n",
        "    st.subheader(\"Enter Restaurant Details\")\n",
        "\n",
        "    online_order = st.selectbox(\"Online Order\", [\"Yes\", \"No\"])\n",
        "    book_table = st.selectbox(\"Book Table\", [\"Yes\", \"No\"])\n",
        "    votes = st.number_input(\"Number of Votes\", min_value=0, value=50)\n",
        "    location = st.text_input(\"Location\", \"Bangalore\")\n",
        "    rest_type = st.text_input(\"Restaurant Type\", \"Casual Dining\")\n",
        "    cuisines = st.text_input(\"Cuisines\", \"Italian\")\n",
        "    cost = st.number_input(\"Cost for Two\", min_value=0, value=500)\n",
        "\n",
        "    if st.button(\"Predict\"):\n",
        "        new_restaurant = pd.DataFrame([{\n",
        "            'online_order': online_order,\n",
        "            'book_table': book_table,\n",
        "            'votes': votes,\n",
        "            'location': location,\n",
        "            'rest_type': rest_type,\n",
        "            'cuisines': cuisines,\n",
        "            'cost': cost\n",
        "        }])\n",
        "\n",
        "        preprocessor = rf_model.named_steps['preprocessor']\n",
        "        # Random Forest prediction\n",
        "        rf_pred = rf_model.predict(new_restaurant)\n",
        "        rf_result = \"Yes\" if rf_pred[0] == 1 else \"No\"\n",
        "\n",
        "        # Neural Network prediction\n",
        "        new_nn = preprocessor.transform(new_restaurant)\n",
        "        nn_pred = nn_model.predict(new_nn)\n",
        "        nn_result = \"Yes\" if int(nn_pred[0][0] > 0.5) else \"No\"\n",
        "\n",
        "        st.subheader(\"Predictions\")\n",
        "        st.write(f\"Random Forest Prediction: **{rf_result}**\")\n",
        "        st.write(f\"Neural Network Prediction: **{nn_result}**\")\n"
      ]
    },
    {
      "cell_type": "code",
      "execution_count": 59,
      "metadata": {
        "colab": {
          "base_uri": "https://localhost:8080/"
        },
        "id": "hcV710V80g-r",
        "outputId": "1cd39d4b-7a51-4acf-a5b1-689a0e217a58"
      },
      "outputs": [
        {
          "name": "stdout",
          "output_type": "stream",
          "text": [
            "Overwriting app.py\n"
          ]
        }
      ],
      "source": [
        "%%writefile app.py\n",
        "import streamlit as st\n",
        "st.title(\"Hello Streamlit from Colab!\")\n",
        "st.write(\"This works via ngrok tunnel.\")\n"
      ]
    },
    {
      "cell_type": "code",
      "execution_count": 61,
      "metadata": {
        "colab": {
          "base_uri": "https://localhost:8080/",
          "height": 838
        },
        "id": "xQlytUZh0jj5",
        "outputId": "4e306b60-39b6-477a-8997-e17fc4919b9a"
      },
      "outputs": [],
      "source": [
        "# from pyngrok import ngrok\n",
        "\n",
        "# # Start ngrok tunnel\n",
        "# public_url = ngrok.connect(port='8501')\n",
        "# print(\"Public URL:\", public_url)\n",
        "\n",
        "# # Run Streamlit in the background\n",
        "# !streamlit run app.py &\n"
      ]
    },
    {
      "cell_type": "code",
      "execution_count": 63,
      "metadata": {
        "colab": {
          "base_uri": "https://localhost:8080/",
          "height": 338
        },
        "id": "e1gii8n8z_ki",
        "outputId": "a4c1f9d8-eb35-4529-af58-a28ec4da6e00"
      },
      "outputs": [],
      "source": [
        "# import streamlit as st\n",
        "# st.set_option('browser.gatherUsageStats', False)"
      ]
    },
    {
      "cell_type": "code",
      "execution_count": 3,
      "metadata": {
        "colab": {
          "base_uri": "https://localhost:8080/"
        },
        "id": "Fdy1Jrq30KS7",
        "outputId": "6075cda8-75db-44ad-d8e2-4f3de25183d3"
      },
      "outputs": [
        {
          "ename": "",
          "evalue": "",
          "output_type": "error",
          "traceback": [
            "\u001b[1;31mThe Kernel crashed while executing code in the current cell or a previous cell. \n",
            "\u001b[1;31mPlease review the code in the cell(s) to identify a possible cause of the failure. \n",
            "\u001b[1;31mClick <a href='https://aka.ms/vscodeJupyterKernelCrash'>here</a> for more info. \n",
            "\u001b[1;31mView Jupyter <a href='command:jupyter.viewOutput'>log</a> for further details."
          ]
        }
      ],
      "source": [
        "!streamlit run app.py --browser.gatherUsageStats false"
      ]
    },
    {
      "cell_type": "code",
      "execution_count": null,
      "metadata": {
        "colab": {
          "base_uri": "https://localhost:8080/",
          "height": 653
        },
        "id": "jvE4FhQJzlq0",
        "outputId": "b1a6ef1e-ece8-4bb7-e874-0f9f29760c69"
      },
      "outputs": [
        {
          "ename": "OSError",
          "evalue": "Background processes not supported.",
          "output_type": "error",
          "traceback": [
            "\u001b[31m---------------------------------------------------------------------------\u001b[39m",
            "\u001b[31mOSError\u001b[39m                                   Traceback (most recent call last)",
            "\u001b[36mCell\u001b[39m\u001b[36m \u001b[39m\u001b[32mIn[2]\u001b[39m\u001b[32m, line 4\u001b[39m\n\u001b[32m      1\u001b[39m \u001b[38;5;28;01mfrom\u001b[39;00m\u001b[38;5;250m \u001b[39m\u001b[34;01mpyngrok\u001b[39;00m\u001b[38;5;250m \u001b[39m\u001b[38;5;28;01mimport\u001b[39;00m ngrok\n\u001b[32m      3\u001b[39m \u001b[38;5;66;03m# Start Streamlit in the background\u001b[39;00m\n\u001b[32m----> \u001b[39m\u001b[32m4\u001b[39m \u001b[43mget_ipython\u001b[49m\u001b[43m(\u001b[49m\u001b[43m)\u001b[49m\u001b[43m.\u001b[49m\u001b[43msystem\u001b[49m\u001b[43m(\u001b[49m\u001b[33;43m'\u001b[39;49m\u001b[33;43mstreamlit run app.py &\u001b[39;49m\u001b[33;43m'\u001b[39;49m\u001b[43m)\u001b[49m\n\u001b[32m      6\u001b[39m \u001b[38;5;66;03m# Create ngrok tunnel\u001b[39;00m\n\u001b[32m      7\u001b[39m url = ngrok.connect(port=\u001b[33m'\u001b[39m\u001b[33m8501\u001b[39m\u001b[33m'\u001b[39m)\n",
            "\u001b[36mFile \u001b[39m\u001b[32m~\\AppData\\Roaming\\Python\\Python313\\site-packages\\ipykernel\\zmqshell.py:641\u001b[39m, in \u001b[36mZMQInteractiveShell.system_piped\u001b[39m\u001b[34m(self, cmd)\u001b[39m\n\u001b[32m    634\u001b[39m \u001b[38;5;28;01mif\u001b[39;00m cmd.rstrip().endswith(\u001b[33m\"\u001b[39m\u001b[33m&\u001b[39m\u001b[33m\"\u001b[39m):\n\u001b[32m    635\u001b[39m     \u001b[38;5;66;03m# this is *far* from a rigorous test\u001b[39;00m\n\u001b[32m    636\u001b[39m     \u001b[38;5;66;03m# We do not support backgrounding processes because we either use\u001b[39;00m\n\u001b[32m    637\u001b[39m     \u001b[38;5;66;03m# pexpect or pipes to read from.  Users can always just call\u001b[39;00m\n\u001b[32m    638\u001b[39m     \u001b[38;5;66;03m# os.system() or use ip.system=ip.system_raw\u001b[39;00m\n\u001b[32m    639\u001b[39m     \u001b[38;5;66;03m# if they really want a background process.\u001b[39;00m\n\u001b[32m    640\u001b[39m     msg = \u001b[33m\"\u001b[39m\u001b[33mBackground processes not supported.\u001b[39m\u001b[33m\"\u001b[39m\n\u001b[32m--> \u001b[39m\u001b[32m641\u001b[39m     \u001b[38;5;28;01mraise\u001b[39;00m \u001b[38;5;167;01mOSError\u001b[39;00m(msg)\n\u001b[32m    643\u001b[39m \u001b[38;5;66;03m# we explicitly do NOT return the subprocess status code, because\u001b[39;00m\n\u001b[32m    644\u001b[39m \u001b[38;5;66;03m# a non-None value would trigger :func:`sys.displayhook` calls.\u001b[39;00m\n\u001b[32m    645\u001b[39m \u001b[38;5;66;03m# Instead, we store the exit_code in user_ns.\u001b[39;00m\n\u001b[32m    646\u001b[39m \u001b[38;5;66;03m# Also, protect system call from UNC paths on Windows here too\u001b[39;00m\n\u001b[32m    647\u001b[39m \u001b[38;5;66;03m# as is done in InteractiveShell.system_raw\u001b[39;00m\n\u001b[32m    648\u001b[39m \u001b[38;5;28;01mif\u001b[39;00m sys.platform == \u001b[33m\"\u001b[39m\u001b[33mwin32\u001b[39m\u001b[33m\"\u001b[39m:\n",
            "\u001b[31mOSError\u001b[39m: Background processes not supported."
          ]
        }
      ],
      "source": [
        "# from pyngrok import ngrok\n",
        "\n",
        "# # Start Streamlit in the background\n",
        "# !streamlit run app.py &\n",
        "\n",
        "# # Create ngrok tunnel\n",
        "# url = ngrok.connect(port='8501')\n",
        "url\n"
      ]
    }
  ],
  "metadata": {
    "accelerator": "TPU",
    "colab": {
      "gpuType": "V28",
      "provenance": []
    },
    "kaggle": {
      "accelerator": "none",
      "dataSources": [
        {
          "datasetId": 153420,
          "sourceId": 352891,
          "sourceType": "datasetVersion"
        }
      ],
      "dockerImageVersionId": 30096,
      "isGpuEnabled": false,
      "isInternetEnabled": false,
      "language": "python",
      "sourceType": "notebook"
    },
    "kernelspec": {
      "display_name": "Python 3",
      "name": "python3"
    },
    "language_info": {
      "codemirror_mode": {
        "name": "ipython",
        "version": 3
      },
      "file_extension": ".py",
      "mimetype": "text/x-python",
      "name": "python",
      "nbconvert_exporter": "python",
      "pygments_lexer": "ipython3",
      "version": "3.13.2"
    }
  },
  "nbformat": 4,
  "nbformat_minor": 0
}
